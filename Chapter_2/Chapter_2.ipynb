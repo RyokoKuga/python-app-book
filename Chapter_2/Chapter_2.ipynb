{
 "cells": [
  {
   "cell_type": "markdown",
   "metadata": {},
   "source": [
    "# Chapter2： 簡単なアプリケーションを作ってみよう"
   ]
  },
  {
   "cell_type": "markdown",
   "metadata": {},
   "source": [
    "### 2.2　アプリケーションウインドウを作成してみよう "
   ]
  },
  {
   "cell_type": "code",
   "execution_count": 1,
   "metadata": {},
   "outputs": [],
   "source": [
    "# リスト2.2.1： アプリケーションウインドウの作成\n",
    "import tkinter as tk\n",
    "\n",
    "root = tk.Tk()\n",
    "root.geometry(\"250x100\")\n",
    "\n",
    "root.mainloop()"
   ]
  },
  {
   "cell_type": "code",
   "execution_count": 2,
   "metadata": {},
   "outputs": [],
   "source": [
    "# リスト2.2.2： アプリケーションウインドウの作成\n",
    "# tkinterのインポート\n",
    "import tkinter as tk\n",
    "\n",
    "# ウインドウの作成\n",
    "root = tk.Tk()\n",
    "# ウインドウのサイズ指定\n",
    "root.geometry(\"250x100\")\n",
    "\n",
    "# ウインドウ状態の維持\n",
    "root.mainloop()"
   ]
  },
  {
   "cell_type": "code",
   "execution_count": 3,
   "metadata": {},
   "outputs": [],
   "source": [
    "# 図2-4.ウインドウサイズの変更\n",
    "# tkinterのインポート\n",
    "import tkinter as tk\n",
    "\n",
    "# ウインドウの作成\n",
    "root = tk.Tk()\n",
    "# ウインドウのサイズ指定\n",
    "root.geometry(\"500x200\")\n",
    "\n",
    "# ウインドウ状態の維持\n",
    "root.mainloop()"
   ]
  },
  {
   "cell_type": "code",
   "execution_count": 4,
   "metadata": {},
   "outputs": [
    {
     "data": {
      "text/plain": [
       "''"
      ]
     },
     "execution_count": 4,
     "metadata": {},
     "output_type": "execute_result"
    }
   ],
   "source": [
    "# 図2-5.4行目のコメントアウト\n",
    "# tkinterのインポート\n",
    "import tkinter as tk\n",
    "\n",
    "# ウインドウの作成\n",
    "root = tk.Tk()\n",
    "# ウインドウのサイズ指定\n",
    "root.geometry(\"250x100\")\n",
    "\n",
    "# ウインドウ状態の維持\n",
    "#root.mainloop()"
   ]
  },
  {
   "cell_type": "markdown",
   "metadata": {},
   "source": [
    "### 2.3　ボタンを配置してみよう"
   ]
  },
  {
   "cell_type": "code",
   "execution_count": null,
   "metadata": {},
   "outputs": [],
   "source": [
    "# リスト2.3.1： Runボタンを配置するコード\n",
    "# Runボタン\n",
    "run_button = tk.Button(root, text = \"Run\")\n",
    "run_button.place(x = 110, y = 30)"
   ]
  },
  {
   "cell_type": "markdown",
   "metadata": {},
   "source": [
    "「図2-5.4行目のコメントアウト」のコードを実行した後に、次のリスト2.3.2を実行すると、空のウインドウが表示されてしまいます。   \n",
    "気にせず、閉じてください。再度リスト2.3.2を実行すると、この問題は解決します。"
   ]
  },
  {
   "cell_type": "code",
   "execution_count": 5,
   "metadata": {},
   "outputs": [],
   "source": [
    "# リスト2.3.2：ウインドウ上にRunボタンを配置\n",
    "# tkinterのインポート\n",
    "import tkinter as tk\n",
    "\n",
    "# ウインドウの作成\n",
    "root = tk.Tk()\n",
    "# ウインドウのサイズ指定\n",
    "root.geometry(\"250x100\")\n",
    "\n",
    "# Runボタン\n",
    "run_button = tk.Button(root, text = \"Run\")\n",
    "run_button.place(x = 110, y = 30)\n",
    "\n",
    "# ウインドウ状態の維持\n",
    "root.mainloop()"
   ]
  },
  {
   "cell_type": "code",
   "execution_count": 6,
   "metadata": {},
   "outputs": [],
   "source": [
    "# 図2-7.各設定値(引数)の変更\n",
    "# tkinterのインポート\n",
    "import tkinter as tk\n",
    "\n",
    "# ウインドウの作成\n",
    "root = tk.Tk()\n",
    "# ウインドウのサイズ指定\n",
    "root.geometry(\"250x100\")\n",
    "\n",
    "# Runボタン\n",
    "run_button = tk.Button(root, text = \"Run\")\n",
    "run_button.place(x = 50, y = 50)\n",
    "\n",
    "# ウインドウ状態の維持\n",
    "root.mainloop()"
   ]
  },
  {
   "cell_type": "markdown",
   "metadata": {},
   "source": [
    "#### ※ カーネルをリセットして、以下を実行してください。  \n",
    "#### カーネルのリセットについて\n",
    "新たなコードセルで変数などが引き継がれるのを阻止する他にも、Jupyter Notebookの挙動が不安定な時や、不具合がある場合はとりあえずカーネルをリセットすると改善することがあるので覚えておきましょう。"
   ]
  },
  {
   "cell_type": "code",
   "execution_count": 1,
   "metadata": {},
   "outputs": [
    {
     "ename": "NameError",
     "evalue": "name 'tk' is not defined",
     "output_type": "error",
     "traceback": [
      "\u001b[1;31m---------------------------------------------------------------------------\u001b[0m",
      "\u001b[1;31mNameError\u001b[0m                                 Traceback (most recent call last)",
      "\u001b[1;32m<ipython-input-1-f22e21de9cd9>\u001b[0m in \u001b[0;36m<module>\u001b[1;34m\u001b[0m\n\u001b[0;32m      1\u001b[0m \u001b[1;31m# Runボタン\u001b[0m\u001b[1;33m\u001b[0m\u001b[1;33m\u001b[0m\u001b[1;33m\u001b[0m\u001b[0m\n\u001b[1;32m----> 2\u001b[1;33m \u001b[0mrun_button\u001b[0m \u001b[1;33m=\u001b[0m \u001b[0mtk\u001b[0m\u001b[1;33m.\u001b[0m\u001b[0mButton\u001b[0m\u001b[1;33m(\u001b[0m\u001b[0mroot\u001b[0m\u001b[1;33m,\u001b[0m \u001b[0mtext\u001b[0m \u001b[1;33m=\u001b[0m \u001b[1;34m\"Run\"\u001b[0m\u001b[1;33m)\u001b[0m\u001b[1;33m\u001b[0m\u001b[1;33m\u001b[0m\u001b[0m\n\u001b[0m\u001b[0;32m      3\u001b[0m \u001b[0mrun_button\u001b[0m\u001b[1;33m.\u001b[0m\u001b[0mplace\u001b[0m\u001b[1;33m(\u001b[0m\u001b[0mx\u001b[0m \u001b[1;33m=\u001b[0m \u001b[1;36m110\u001b[0m\u001b[1;33m,\u001b[0m \u001b[0my\u001b[0m \u001b[1;33m=\u001b[0m \u001b[1;36m30\u001b[0m\u001b[1;33m)\u001b[0m\u001b[1;33m\u001b[0m\u001b[1;33m\u001b[0m\u001b[0m\n\u001b[0;32m      4\u001b[0m \u001b[1;33m\u001b[0m\u001b[0m\n\u001b[0;32m      5\u001b[0m \u001b[1;31m# tkinterのインポート\u001b[0m\u001b[1;33m\u001b[0m\u001b[1;33m\u001b[0m\u001b[1;33m\u001b[0m\u001b[0m\n",
      "\u001b[1;31mNameError\u001b[0m: name 'tk' is not defined"
     ]
    }
   ],
   "source": [
    "# 図2-9.Runボタンを配置するコードを最初の行に入力した場合\n",
    "# Runボタン\n",
    "run_button = tk.Button(root, text = \"Run\")\n",
    "run_button.place(x = 110, y = 30)\n",
    "\n",
    "# tkinterのインポート\n",
    "import tkinter as tk\n",
    "\n",
    "# ウインドウの作成\n",
    "root = tk.Tk()\n",
    "# ウインドウのサイズ指定\n",
    "root.geometry(\"250x100\")\n",
    "\n",
    "# ウインドウ状態の維持\n",
    "root.mainloop()"
   ]
  },
  {
   "cell_type": "code",
   "execution_count": 2,
   "metadata": {},
   "outputs": [
    {
     "ename": "TclError",
     "evalue": "can't invoke \"button\" command: application has been destroyed",
     "output_type": "error",
     "traceback": [
      "\u001b[1;31m---------------------------------------------------------------------------\u001b[0m",
      "\u001b[1;31mTclError\u001b[0m                                  Traceback (most recent call last)",
      "\u001b[1;32m<ipython-input-2-4522acc63b47>\u001b[0m in \u001b[0;36m<module>\u001b[1;34m\u001b[0m\n\u001b[0;32m     12\u001b[0m \u001b[1;33m\u001b[0m\u001b[0m\n\u001b[0;32m     13\u001b[0m \u001b[1;31m# Runボタン\u001b[0m\u001b[1;33m\u001b[0m\u001b[1;33m\u001b[0m\u001b[1;33m\u001b[0m\u001b[0m\n\u001b[1;32m---> 14\u001b[1;33m \u001b[0mrun_button\u001b[0m \u001b[1;33m=\u001b[0m \u001b[0mtk\u001b[0m\u001b[1;33m.\u001b[0m\u001b[0mButton\u001b[0m\u001b[1;33m(\u001b[0m\u001b[0mroot\u001b[0m\u001b[1;33m,\u001b[0m \u001b[0mtext\u001b[0m \u001b[1;33m=\u001b[0m \u001b[1;34m\"Run\"\u001b[0m\u001b[1;33m)\u001b[0m\u001b[1;33m\u001b[0m\u001b[1;33m\u001b[0m\u001b[0m\n\u001b[0m\u001b[0;32m     15\u001b[0m \u001b[0mrun_button\u001b[0m\u001b[1;33m.\u001b[0m\u001b[0mplace\u001b[0m\u001b[1;33m(\u001b[0m\u001b[0mx\u001b[0m \u001b[1;33m=\u001b[0m \u001b[1;36m110\u001b[0m\u001b[1;33m,\u001b[0m \u001b[0my\u001b[0m \u001b[1;33m=\u001b[0m \u001b[1;36m30\u001b[0m\u001b[1;33m)\u001b[0m\u001b[1;33m\u001b[0m\u001b[1;33m\u001b[0m\u001b[0m\n",
      "\u001b[1;32m~\\Anaconda3\\lib\\tkinter\\__init__.py\u001b[0m in \u001b[0;36m__init__\u001b[1;34m(self, master, cnf, **kw)\u001b[0m\n\u001b[0;32m   2367\u001b[0m             \u001b[0moverrelief\u001b[0m\u001b[1;33m,\u001b[0m \u001b[0mstate\u001b[0m\u001b[1;33m,\u001b[0m \u001b[0mwidth\u001b[0m\u001b[1;33m\u001b[0m\u001b[1;33m\u001b[0m\u001b[0m\n\u001b[0;32m   2368\u001b[0m         \"\"\"\n\u001b[1;32m-> 2369\u001b[1;33m         \u001b[0mWidget\u001b[0m\u001b[1;33m.\u001b[0m\u001b[0m__init__\u001b[0m\u001b[1;33m(\u001b[0m\u001b[0mself\u001b[0m\u001b[1;33m,\u001b[0m \u001b[0mmaster\u001b[0m\u001b[1;33m,\u001b[0m \u001b[1;34m'button'\u001b[0m\u001b[1;33m,\u001b[0m \u001b[0mcnf\u001b[0m\u001b[1;33m,\u001b[0m \u001b[0mkw\u001b[0m\u001b[1;33m)\u001b[0m\u001b[1;33m\u001b[0m\u001b[1;33m\u001b[0m\u001b[0m\n\u001b[0m\u001b[0;32m   2370\u001b[0m \u001b[1;33m\u001b[0m\u001b[0m\n\u001b[0;32m   2371\u001b[0m     \u001b[1;32mdef\u001b[0m \u001b[0mflash\u001b[0m\u001b[1;33m(\u001b[0m\u001b[0mself\u001b[0m\u001b[1;33m)\u001b[0m\u001b[1;33m:\u001b[0m\u001b[1;33m\u001b[0m\u001b[1;33m\u001b[0m\u001b[0m\n",
      "\u001b[1;32m~\\Anaconda3\\lib\\tkinter\\__init__.py\u001b[0m in \u001b[0;36m__init__\u001b[1;34m(self, master, widgetName, cnf, kw, extra)\u001b[0m\n\u001b[0;32m   2297\u001b[0m             \u001b[1;32mdel\u001b[0m \u001b[0mcnf\u001b[0m\u001b[1;33m[\u001b[0m\u001b[0mk\u001b[0m\u001b[1;33m]\u001b[0m\u001b[1;33m\u001b[0m\u001b[1;33m\u001b[0m\u001b[0m\n\u001b[0;32m   2298\u001b[0m         self.tk.call(\n\u001b[1;32m-> 2299\u001b[1;33m             (widgetName, self._w) + extra + self._options(cnf))\n\u001b[0m\u001b[0;32m   2300\u001b[0m         \u001b[1;32mfor\u001b[0m \u001b[0mk\u001b[0m\u001b[1;33m,\u001b[0m \u001b[0mv\u001b[0m \u001b[1;32min\u001b[0m \u001b[0mclasses\u001b[0m\u001b[1;33m:\u001b[0m\u001b[1;33m\u001b[0m\u001b[1;33m\u001b[0m\u001b[0m\n\u001b[0;32m   2301\u001b[0m             \u001b[0mk\u001b[0m\u001b[1;33m.\u001b[0m\u001b[0mconfigure\u001b[0m\u001b[1;33m(\u001b[0m\u001b[0mself\u001b[0m\u001b[1;33m,\u001b[0m \u001b[0mv\u001b[0m\u001b[1;33m)\u001b[0m\u001b[1;33m\u001b[0m\u001b[1;33m\u001b[0m\u001b[0m\n",
      "\u001b[1;31mTclError\u001b[0m: can't invoke \"button\" command: application has been destroyed"
     ]
    }
   ],
   "source": [
    "# 図2-10.Runボタンを配置するコードを最後の行に入力した場合\n",
    "# tkinterのインポート\n",
    "import tkinter as tk\n",
    "\n",
    "# ウインドウの作成\n",
    "root = tk.Tk()\n",
    "# ウインドウのサイズ指定\n",
    "root.geometry(\"250x100\")\n",
    "\n",
    "# ウインドウ状態の維持\n",
    "root.mainloop()\n",
    "\n",
    "# Runボタン\n",
    "run_button = tk.Button(root, text = \"Run\")\n",
    "run_button.place(x = 110, y = 30)"
   ]
  },
  {
   "cell_type": "markdown",
   "metadata": {},
   "source": [
    "### 2.4　ボタンに機能を付与しよう"
   ]
  },
  {
   "cell_type": "code",
   "execution_count": 3,
   "metadata": {},
   "outputs": [
    {
     "name": "stdout",
     "output_type": "stream",
     "text": [
      "Hello!!\n"
     ]
    }
   ],
   "source": [
    "# リスト1.3.1： print関数で文字列の出力\n",
    "print(\"Hello!!\")"
   ]
  },
  {
   "cell_type": "code",
   "execution_count": 4,
   "metadata": {},
   "outputs": [],
   "source": [
    "# リスト2.4.1： run_func関数\n",
    "def run_func():\n",
    "    print(\"Hello!!\")"
   ]
  },
  {
   "cell_type": "code",
   "execution_count": 5,
   "metadata": {},
   "outputs": [
    {
     "name": "stdout",
     "output_type": "stream",
     "text": [
      "Hello!!\n"
     ]
    }
   ],
   "source": [
    "# リスト2.4.2： run_func関数の実行\n",
    "# 関数の定義\n",
    "def run_func():\n",
    "    print(\"Hello!!\")\n",
    "\n",
    "# 関数の実行\n",
    "run_func()"
   ]
  },
  {
   "cell_type": "code",
   "execution_count": 6,
   "metadata": {},
   "outputs": [
    {
     "name": "stdout",
     "output_type": "stream",
     "text": [
      "Hello!!\n",
      "OK\n"
     ]
    }
   ],
   "source": [
    "# リスト2.4.3： print(\"OK\")の追加\n",
    "# 関数の定義\n",
    "def run_func():\n",
    "    print(\"Hello!!\")\n",
    "    print(\"OK\")\n",
    "\n",
    "# 関数の実行\n",
    "run_func()"
   ]
  },
  {
   "cell_type": "markdown",
   "metadata": {},
   "source": [
    "#### (補足) 「リスト2.4.4： GUIへ関数の追加」について\n",
    "#### ※ tk.Button()の引数へ「command = run_func」を追加する際は、,(コンマ)で区切ることを忘れないようにしましょう。  \n",
    "引数内の各引数間は、,(コンマ)で区切る必要があります。 ,(コンマ)を忘れると、エラーが発生するので注意してください。"
   ]
  },
  {
   "cell_type": "code",
   "execution_count": 7,
   "metadata": {},
   "outputs": [
    {
     "name": "stdout",
     "output_type": "stream",
     "text": [
      "Hello!!\n",
      "OK\n"
     ]
    }
   ],
   "source": [
    "# リスト2.4.4： GUIへ関数の追加\n",
    "# tkinterのインポート\n",
    "import tkinter as tk\n",
    "\n",
    "### 関数 ###\n",
    "# 関数の定義\n",
    "def run_func():\n",
    "    print(\"Hello!!\")\n",
    "    print(\"OK\")\n",
    "\n",
    "### GUI ###\n",
    "# ウインドウの作成\n",
    "root = tk.Tk()\n",
    "# ウインドウのサイズ指定\n",
    "root.geometry(\"250x100\")\n",
    "\n",
    "# Runボタン\n",
    "run_button = tk.Button(root, text = \"Run\", command = run_func)\n",
    "run_button.place(x = 110, y = 30)\n",
    "\n",
    "# ウインドウ状態の維持\n",
    "root.mainloop()"
   ]
  },
  {
   "cell_type": "markdown",
   "metadata": {},
   "source": [
    "### 2.5　スクリプトを保存して実行してみよう"
   ]
  },
  {
   "cell_type": "code",
   "execution_count": 8,
   "metadata": {},
   "outputs": [
    {
     "name": "stdout",
     "output_type": "stream",
     "text": [
      "Hello!!\n",
      "OK\n"
     ]
    }
   ],
   "source": [
    "# リスト2.5.1： UTF-8でスクリプトを保存\n",
    "# coding: utf-8\n",
    "# tkinterのインポート\n",
    "import tkinter as tk\n",
    "\n",
    "### 関数 ###\n",
    "# 関数の定義\n",
    "def runFunc():\n",
    "    print(\"Hello!!\")\n",
    "    print(\"OK\")\n",
    "\n",
    "### GUI ###\n",
    "# ウインドウの作成\n",
    "root = tk.Tk()\n",
    "# ウインドウのサイズ指定\n",
    "root.geometry(\"250x100\")\n",
    "\n",
    "# Runボタン\n",
    "run_button = tk.Button(root, text = \"Run\", command = runFunc)\n",
    "run_button.place(x = 110, y = 30)\n",
    "\n",
    "# ウインドウ状態の維持\n",
    "root.mainloop()"
   ]
  }
 ],
 "metadata": {
  "kernelspec": {
   "display_name": "Python 3",
   "language": "python",
   "name": "python3"
  },
  "language_info": {
   "codemirror_mode": {
    "name": "ipython",
    "version": 3
   },
   "file_extension": ".py",
   "mimetype": "text/x-python",
   "name": "python",
   "nbconvert_exporter": "python",
   "pygments_lexer": "ipython3",
   "version": "3.8.8"
  }
 },
 "nbformat": 4,
 "nbformat_minor": 4
}
