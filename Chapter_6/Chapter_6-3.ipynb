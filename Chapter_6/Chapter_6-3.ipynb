{
 "cells": [
  {
   "cell_type": "markdown",
   "metadata": {},
   "source": [
    "# Chapter6： 付録"
   ]
  },
  {
   "cell_type": "markdown",
   "metadata": {},
   "source": [
    "### 6.3　ウイジットのレイアウト例"
   ]
  },
  {
   "cell_type": "code",
   "execution_count": 1,
   "metadata": {},
   "outputs": [],
   "source": [
    "# 図6-24.anchorによるボタンの配置\n",
    "import tkinter as tk\n",
    "\n",
    "root = tk.Tk()\n",
    "\n",
    "# ボタン\n",
    "button1 = tk.Button(root, text = \"NW\")\n",
    "button1.pack(anchor = tk.NW)\n",
    "\n",
    "button2 = tk.Button(root, text = \"W\")\n",
    "button2.pack(anchor = tk.W)\n",
    "\n",
    "button3 = tk.Button(root, text = \"SW\")\n",
    "button3.pack(anchor = tk.SW)\n",
    "\n",
    "button4 = tk.Button(root, text = \"N\")\n",
    "button4.pack(anchor = tk.N)\n",
    "\n",
    "button5 = tk.Button(root, text = \"CHNTER\")\n",
    "button5.pack(anchor = tk.CENTER)\n",
    "                      \n",
    "button6 = tk.Button(root, text = \"S\")\n",
    "button6.pack(anchor = tk.S)\n",
    "\n",
    "button7 = tk.Button(root, text = \"NE\")\n",
    "button7.pack(anchor = tk.NE)\n",
    "\n",
    "button8 = tk.Button(root, text = \"E\")\n",
    "button8.pack(anchor = tk.E)\n",
    "                                          \n",
    "button9 = tk.Button(root, text = \"SE\")\n",
    "button9.pack(anchor = tk.SE)                     \n",
    "                                         \n",
    "root.mainloop()"
   ]
  },
  {
   "cell_type": "code",
   "execution_count": 2,
   "metadata": {},
   "outputs": [],
   "source": [
    "# リスト6.3.1： expandの使用例\n",
    "import tkinter as tk\n",
    "\n",
    "root = tk.Tk()\n",
    "\n",
    "# ボタン\n",
    "push_button = tk.Button(root, text = \"Push\")\n",
    "push_button.pack(padx = 30, pady = 30,\n",
    "                 fill = tk.BOTH, expand = 1)\n",
    "\n",
    "root.mainloop()"
   ]
  },
  {
   "cell_type": "code",
   "execution_count": 3,
   "metadata": {},
   "outputs": [],
   "source": [
    "# 図6-26.padx, pady, ipadx, ipadyの関係図\n",
    "import tkinter as tk\n",
    "\n",
    "root = tk.Tk()\n",
    "\n",
    "# ボタン\n",
    "push_button = tk.Button(root, text = \"Push\")\n",
    "push_button.pack(padx = 30, pady = 30, ipadx = 30, ipady = 30)\n",
    "\n",
    "root.mainloop()"
   ]
  },
  {
   "cell_type": "code",
   "execution_count": 4,
   "metadata": {},
   "outputs": [],
   "source": [
    "# 図6-27.gride()メソッドのrow, columnによる配置例1\n",
    "import tkinter as tk\n",
    "\n",
    "root = tk.Tk()\n",
    "\n",
    "# ボタン\n",
    "button1 = tk.Button(root, text = \"button1\")\n",
    "button1.grid(row=0, column=0)\n",
    "\n",
    "button2 = tk.Button(root, text = \"button2\")\n",
    "button2.grid(row = 1, column = 0)\n",
    "\n",
    "button3 = tk.Button(root, text = \"button3\")\n",
    "button3.grid(row = 1, column = 1)\n",
    "      \n",
    "root.mainloop()"
   ]
  },
  {
   "cell_type": "code",
   "execution_count": 5,
   "metadata": {},
   "outputs": [],
   "source": [
    "# 図6-28.gride()メソッドのrow, columnによる配置例2\n",
    "import tkinter as tk\n",
    "\n",
    "root = tk.Tk()\n",
    "\n",
    "# ボタン\n",
    "button1 = tk.Button(root, text = \"button1\")\n",
    "button1.grid(row=0, column=0, columnspan = 2, sticky = tk.W + tk.E)\n",
    "\n",
    "button2 = tk.Button(root, text = \"button2\")\n",
    "button2.grid(row = 1, column = 0)\n",
    "\n",
    "button3 = tk.Button(root, text = \"button3\")\n",
    "button3.grid(row = 1, column = 1)\n",
    "      \n",
    "root.mainloop()"
   ]
  },
  {
   "cell_type": "code",
   "execution_count": 6,
   "metadata": {},
   "outputs": [],
   "source": [
    "# 図6-29.placeによる配置例\n",
    "import tkinter as tk\n",
    "\n",
    "root = tk.Tk()\n",
    "\n",
    "# ボタン\n",
    "button1 = tk.Button(root, text = \"button1\")\n",
    "button1.place(x = 0, y = 0)\n",
    "\n",
    "button2 = tk.Button(root, text = \"button2\")\n",
    "button2.place(x = 50, y = 50)\n",
    "\n",
    "button3 = tk.Button(root, text = \"button3\")\n",
    "button3.place(x = 100, y = 100)\n",
    "      \n",
    "root.mainloop()"
   ]
  },
  {
   "cell_type": "code",
   "execution_count": 7,
   "metadata": {},
   "outputs": [],
   "source": [
    "# 図6-30.reliefの定数比較\n",
    "import tkinter as tk\n",
    "\n",
    "root = tk.Tk()\n",
    "\n",
    "# ステータスバー\n",
    "statusbar1 = tk.Label(root, text = \" Here we go!!\",\n",
    "                     bd = 1, relief = tk.FLAT, anchor = tk.W)\n",
    "statusbar1.pack(side = tk.BOTTOM, fill = tk.X)\n",
    "\n",
    "statusbar2 = tk.Label(root, text = \" Here we go!!\",\n",
    "                     bd = 1, relief = tk.RAISED, anchor = tk.W)\n",
    "statusbar2.pack(side = tk.BOTTOM, fill = tk.X)\n",
    "\n",
    "statusbar3 = tk.Label(root, text = \" Here we go!!\",\n",
    "                     bd = 1, relief = tk.SUNKEN, anchor = tk.W)\n",
    "statusbar3.pack(side = tk.BOTTOM, fill = tk.X)\n",
    "\n",
    "statusbar4 = tk.Label(root, text = \" Here we go!!\",\n",
    "                     bd = 1, relief = tk.GROOVE, anchor = tk.W)\n",
    "statusbar4.pack(side = tk.BOTTOM, fill = tk.X)\n",
    "\n",
    "statusbar5 = tk.Label(root, text = \" Here we go!!\",\n",
    "                     bd = 1, relief = tk.RIDGE, anchor = tk.W)\n",
    "statusbar5.pack(side = tk.BOTTOM, fill = tk.X)\n",
    "\n",
    "root.mainloop()"
   ]
  },
  {
   "cell_type": "markdown",
   "metadata": {},
   "source": [
    "# 参考URL  \n",
    "### Python公式チュートリアル https://docs.python.org/ja/3/tutorial/index.html  \n",
    "### PEP8 https://pep8-ja.readthedocs.io/ja/latest/"
   ]
  }
 ],
 "metadata": {
  "kernelspec": {
   "display_name": "Python 3",
   "language": "python",
   "name": "python3"
  },
  "language_info": {
   "codemirror_mode": {
    "name": "ipython",
    "version": 3
   },
   "file_extension": ".py",
   "mimetype": "text/x-python",
   "name": "python",
   "nbconvert_exporter": "python",
   "pygments_lexer": "ipython3",
   "version": "3.7.6"
  }
 },
 "nbformat": 4,
 "nbformat_minor": 4
}
