{
 "cells": [
  {
   "cell_type": "markdown",
   "metadata": {},
   "source": [
    "# Chapter6： 付録"
   ]
  },
  {
   "cell_type": "markdown",
   "metadata": {},
   "source": [
    "### 6.1　ウイジットの使用例"
   ]
  },
  {
   "cell_type": "markdown",
   "metadata": {},
   "source": [
    "6.1.1 ウインドウオプション"
   ]
  },
  {
   "cell_type": "code",
   "execution_count": 1,
   "metadata": {},
   "outputs": [],
   "source": [
    "# リスト6.1.1： ウインドウのオプション\n",
    "import tkinter as tk\n",
    "\n",
    "root = tk.Tk()\n",
    "root.geometry(\"300x100\")\n",
    "\n",
    "# ウインドウ名\n",
    "root.title(\"TestApp\")\n",
    "# アイコン\n",
    "root.iconphoto(True, tk.PhotoImage(file = \"Images/icon.png\"))\n",
    "# ウインドウサイズの固定\n",
    "root.resizable(width = False, height = False)\n",
    "\n",
    "root.mainloop()"
   ]
  },
  {
   "cell_type": "markdown",
   "metadata": {},
   "source": [
    "#### ※ リスト6.1.1のウインドウオプションをリセットしたい場合は、カーネルをリスタートしてください。"
   ]
  },
  {
   "cell_type": "markdown",
   "metadata": {},
   "source": [
    "6.1.2 メニューバーの階層追加"
   ]
  },
  {
   "cell_type": "code",
   "execution_count": 2,
   "metadata": {},
   "outputs": [],
   "source": [
    "# リスト6.1.2： メニューバーに第2階層の追加\n",
    "import tkinter as tk\n",
    "\n",
    "root = tk.Tk()\n",
    "root.geometry(\"300x100\")\n",
    "\n",
    "# メニューバーの作成\n",
    "menubar = tk.Menu(root)\n",
    "root.configure(menu = menubar)\n",
    "# Fileメニュー\n",
    "filemenu = tk.Menu(menubar, tearoff = 0)\n",
    "menubar.add_cascade(label = \"File\", menu = filemenu)\n",
    "# >Open...\n",
    "open_menu = tk.Menu(menubar, tearoff = 0)\n",
    "filemenu.add_cascade(label = \"Open...\", menu = open_menu)\n",
    "open_menu.add_command(label = \"txt File (*.txt)\")\n",
    "open_menu.add_command(label = \"asc File (*.asc)\")\n",
    "# >Exit\n",
    "filemenu.add_command(label = \"Exit\")\n",
    "\n",
    "root.mainloop()"
   ]
  },
  {
   "cell_type": "markdown",
   "metadata": {},
   "source": [
    "6.1.3 その他のメッセージボックス"
   ]
  },
  {
   "cell_type": "code",
   "execution_count": 3,
   "metadata": {},
   "outputs": [
    {
     "name": "stdout",
     "output_type": "stream",
     "text": [
      "ok\n"
     ]
    }
   ],
   "source": [
    "# リスト6.1.3： showinfo\n",
    "import tkinter as tk\n",
    "from tkinter import messagebox\n",
    "\n",
    "root = tk.Tk()\n",
    "# ウインドウの非表示\n",
    "root.withdraw()\n",
    "\n",
    "# showinfo\n",
    "mb = messagebox.showinfo(\"title\", \"message\")\n",
    "print(mb)"
   ]
  },
  {
   "cell_type": "code",
   "execution_count": 4,
   "metadata": {},
   "outputs": [
    {
     "name": "stdout",
     "output_type": "stream",
     "text": [
      "ok\n"
     ]
    }
   ],
   "source": [
    "# リスト6.1.4： showwarning\n",
    "import tkinter as tk\n",
    "from tkinter import messagebox\n",
    "\n",
    "root = tk.Tk()\n",
    "root.withdraw()\n",
    "\n",
    "# showwarning\n",
    "mb = messagebox.showwarning(\"title\", \"message\")\n",
    "print(mb)"
   ]
  },
  {
   "cell_type": "code",
   "execution_count": 5,
   "metadata": {},
   "outputs": [
    {
     "name": "stdout",
     "output_type": "stream",
     "text": [
      "yes\n"
     ]
    }
   ],
   "source": [
    "# リスト6.1.5： askquestion\n",
    "import tkinter as tk\n",
    "from tkinter import messagebox\n",
    "\n",
    "root = tk.Tk()\n",
    "root.withdraw()\n",
    "\n",
    "# askquestion\n",
    "mb = messagebox.askquestion(\"title\", \"message\")\n",
    "print(mb)"
   ]
  },
  {
   "cell_type": "code",
   "execution_count": 6,
   "metadata": {},
   "outputs": [
    {
     "name": "stdout",
     "output_type": "stream",
     "text": [
      "True\n"
     ]
    }
   ],
   "source": [
    "# リスト6.1.6： askyesno\n",
    "import tkinter as tk\n",
    "from tkinter import messagebox\n",
    "\n",
    "root = tk.Tk()\n",
    "root.withdraw()\n",
    "\n",
    "# askyesno\n",
    "mb = messagebox.askyesno(\"title\", \"message\")\n",
    "print(mb)"
   ]
  },
  {
   "cell_type": "code",
   "execution_count": 7,
   "metadata": {},
   "outputs": [
    {
     "name": "stdout",
     "output_type": "stream",
     "text": [
      "True\n"
     ]
    }
   ],
   "source": [
    "# リスト6.1.7： askokcancel\n",
    "import tkinter as tk\n",
    "from tkinter import messagebox\n",
    "\n",
    "root = tk.Tk()\n",
    "root.withdraw()\n",
    "\n",
    "# askokcancel\n",
    "mb = messagebox.askokcancel(\"title\", \"message\")\n",
    "print(mb)"
   ]
  },
  {
   "cell_type": "code",
   "execution_count": 8,
   "metadata": {},
   "outputs": [
    {
     "name": "stdout",
     "output_type": "stream",
     "text": [
      "True\n"
     ]
    }
   ],
   "source": [
    "# リスト6.1.8： askretrycancel\n",
    "import tkinter as tk\n",
    "from tkinter import messagebox\n",
    "\n",
    "root = tk.Tk()\n",
    "root.withdraw()\n",
    "\n",
    "# askretrycancel\n",
    "mb = messagebox.askretrycancel(\"title\", \"message\")\n",
    "print(mb)"
   ]
  },
  {
   "cell_type": "markdown",
   "metadata": {},
   "source": [
    "6.1.4 シンプルダイアログ"
   ]
  },
  {
   "cell_type": "code",
   "execution_count": 9,
   "metadata": {},
   "outputs": [
    {
     "name": "stdout",
     "output_type": "stream",
     "text": [
      "\n"
     ]
    }
   ],
   "source": [
    "# リスト6.1.8： simpledialog\n",
    "import tkinter as tk\n",
    "# simpledialogのインポート\n",
    "import tkinter.simpledialog as simpledialog\n",
    "\n",
    "root = tk.Tk()\n",
    "root.withdraw()\n",
    "\n",
    "# simpledialog\n",
    "data = simpledialog.askstring(\"title\", \"message\")\n",
    "print(data)"
   ]
  },
  {
   "cell_type": "markdown",
   "metadata": {},
   "source": [
    "6.1.5 スピンボックス、チェックボタン  \n",
    "※) 他のセルでroot.withdraw()を実行している場合は、カーネルをリスタートしてください。"
   ]
  },
  {
   "cell_type": "code",
   "execution_count": 1,
   "metadata": {},
   "outputs": [],
   "source": [
    "# リスト6.1.9： スピンボックスとチェックボタン\n",
    "import tkinter as tk\n",
    "from tkinter import ttk\n",
    "\n",
    "root = tk.Tk()\n",
    "\n",
    "# スピンボックス\n",
    "spinbox = tk.StringVar()\n",
    "spinbox.set(0)\n",
    "sp = ttk.Spinbox(root, textvariable = spinbox,\n",
    "                 from_=-5, to=5, width = 10)\n",
    "sp.pack()\n",
    "# チェックボタン\n",
    "checkbtn = tk.StringVar()\n",
    "checkbtn.set(\"NO\")\n",
    "chk = ttk.Checkbutton(root, variable = checkbtn, text = \"Check\",\n",
    "                      onvalue = \"OK\", offvalue = \"NO\")\n",
    "chk.pack()\n",
    "\n",
    "root.mainloop()"
   ]
  },
  {
   "cell_type": "code",
   "execution_count": 2,
   "metadata": {},
   "outputs": [
    {
     "name": "stdout",
     "output_type": "stream",
     "text": [
      "5 OK\n"
     ]
    }
   ],
   "source": [
    "# リスト6.1.10： リスト6.1.9へのボタンの追加\n",
    "import tkinter as tk\n",
    "from tkinter import ttk\n",
    "\n",
    "root = tk.Tk()\n",
    "\n",
    "# スピンボックス\n",
    "spinbox = tk.StringVar()\n",
    "spinbox.set(0)\n",
    "sp = ttk.Spinbox(root, textvariable = spinbox,\n",
    "                 from_=-5, to=5, width = 10)\n",
    "sp.pack()\n",
    "# チェックボタン\n",
    "checkbtn = tk.StringVar()\n",
    "checkbtn.set(\"NO\")\n",
    "chk = ttk.Checkbutton(root, variable = checkbtn, text = \"Check\",\n",
    "                      onvalue = \"OK\", offvalue = \"NO\")\n",
    "chk.pack()\n",
    "\n",
    "# ボタン\n",
    "push_button = tk.Button(root,\n",
    "                        text = \"Push\",\n",
    "                        command = lambda: print(sp.get(),\n",
    "                                                checkbtn.get()))\n",
    "push_button.pack()\n",
    "\n",
    "root.mainloop()"
   ]
  },
  {
   "cell_type": "markdown",
   "metadata": {},
   "source": [
    "6.1.6 辞書型のコンボボックス"
   ]
  },
  {
   "cell_type": "code",
   "execution_count": 3,
   "metadata": {},
   "outputs": [],
   "source": [
    "# リスト6.1.11： 辞書型のコンボボックス\n",
    "import tkinter as tk\n",
    "from tkinter import ttk\n",
    "\n",
    "root = tk.Tk()\n",
    "\n",
    "# コンボボックス\n",
    "combo_dict = {\"One\": \"1\", \"Two\": \"2\",\n",
    "              \"Three\": \"3\", \"Four\": \"4\", \"Five\": \"5\"}\n",
    "cb = ttk.Combobox(root, values = list(combo_dict.keys()))\n",
    "cb.pack()\n",
    "\n",
    "root.mainloop()"
   ]
  },
  {
   "cell_type": "code",
   "execution_count": 4,
   "metadata": {},
   "outputs": [
    {
     "name": "stdout",
     "output_type": "stream",
     "text": [
      "3\n"
     ]
    }
   ],
   "source": [
    "# リスト6.1.12： リスト6.1.11へのボタンの追加\n",
    "import tkinter as tk\n",
    "from tkinter import ttk\n",
    "\n",
    "root = tk.Tk()\n",
    "\n",
    "# コンボボックス\n",
    "combo_dict = {\"One\": \"1\", \"Two\": \"2\",\n",
    "              \"Three\": \"3\", \"Four\": \"4\", \"Five\": \"5\"}\n",
    "cb = ttk.Combobox(root, values = list(combo_dict.keys()))\n",
    "cb.pack()\n",
    "\n",
    "# ボタン\n",
    "push_button = tk.Button(root, text = \"Push\",\n",
    "                        command = lambda: print(combo_dict[cb.get()]))\n",
    "push_button.pack()\n",
    "\n",
    "root.mainloop()"
   ]
  },
  {
   "cell_type": "markdown",
   "metadata": {},
   "source": [
    "6.1.7 ボタンへの画像の追加"
   ]
  },
  {
   "cell_type": "code",
   "execution_count": 5,
   "metadata": {},
   "outputs": [],
   "source": [
    "# リスト6.1.13： ボタンへの画像の追加\n",
    "import tkinter as tk\n",
    "\n",
    "root = tk.Tk()\n",
    "\n",
    "# 画像指定\n",
    "pb_image = tk.PhotoImage(file = \"Images/icon.png\")\n",
    "# ボタン\n",
    "push_button = tk.Button(root, text = \" Push\",\n",
    "                        image = pb_image, compound = tk.LEFT,\n",
    "                        width = 100, height = 30)\n",
    "push_button.pack(padx = 30, pady = 30)\n",
    "\n",
    "root.mainloop()"
   ]
  },
  {
   "cell_type": "markdown",
   "metadata": {},
   "source": [
    "6.1.8 画像の追加"
   ]
  },
  {
   "cell_type": "code",
   "execution_count": 6,
   "metadata": {},
   "outputs": [],
   "source": [
    "# リスト6.1.14： 画像(キャンバス)の設置\n",
    "import tkinter as tk\n",
    "\n",
    "root = tk.Tk()\n",
    "\n",
    "# 画像指定\n",
    "test_image = tk.PhotoImage(file = \"Images/test.png\")\n",
    "# キャンパス\n",
    "canvas = tk.Canvas(root, width = 250, height = 250)\n",
    "canvas.pack(padx = 10, pady = 10)\n",
    "canvas.create_image(0, 0, image = test_image, anchor = tk.NW)\n",
    "\n",
    "root.mainloop()"
   ]
  },
  {
   "cell_type": "markdown",
   "metadata": {},
   "source": [
    "6.1.9 x軸方向のスクロールバー"
   ]
  },
  {
   "cell_type": "code",
   "execution_count": 7,
   "metadata": {},
   "outputs": [],
   "source": [
    "# リスト6.1.15： x軸方向のスクロールバー\n",
    "import tkinter as tk\n",
    "from tkinter import ttk\n",
    "\n",
    "root = tk.Tk()\n",
    "# フレーム\n",
    "frame = ttk.Frame(root, padding = 5)\n",
    "frame.pack(padx = 5, pady = 5)\n",
    "# テキストボックス\n",
    "txtbox = tk.Text(frame, width = 60, height = 20)\n",
    "\n",
    "# スクロールバー作成\n",
    "# y軸方向\n",
    "yscroll = tk.Scrollbar(frame, orient = tk.VERTICAL,\n",
    "                       command = txtbox.yview)\n",
    "txtbox[\"yscrollcommand\"] = yscroll.set\n",
    "yscroll.pack(side = tk.RIGHT, fill = tk.Y)\n",
    "# x軸横方向\n",
    "xscroll = tk.Scrollbar(frame, orient = tk.HORIZONTAL,\n",
    "                            command = txtbox.xview)\n",
    "txtbox[\"xscrollcommand\"] = xscroll.set\n",
    "xscroll.pack(side = tk.BOTTOM, fill = tk.X)\n",
    "\n",
    "# テキストボックスの配置\n",
    "txtbox.pack()\n",
    "\n",
    "root.mainloop()"
   ]
  },
  {
   "cell_type": "markdown",
   "metadata": {},
   "source": [
    "#### (補足) 「リスト6.1.15： x軸方向のスクロールバー」について\n",
    "#### ※ x軸方向のスクロールバーを実際にテストしたい場合は、以下のようにコードを変更してください。"
   ]
  },
  {
   "cell_type": "markdown",
   "metadata": {},
   "source": [
    "リスト6.1.15のTextウイジットの引数で「wrap = \"none\"」を追加します。  \n",
    "wrapオプションは、テキストボックス中の長い行の折り返しを設定するためのものです。  \n",
    "折返しなし(wrap = \"none\")に設定することで、x軸方向のスクロールバーが実際に動作するか確認することができます。  \n",
    "テキストボックスの幅以上の文字列を入力すると、x軸方向のスクロールバーが動作します。  \n",
    "\n",
    "- none: 折り返ししない  \n",
    "- char: 文字単位で折り返し  \n",
    "- word: 単語単位で折り返し  \n",
    "\n",
    "変更前  \n",
    "txtbox = tk.Text(frame, width = 60, height = 20)  \n",
    "↓  \n",
    "変更後  \n",
    "txtbox = tk.Text(frame, width = 60, height = 20, wrap = \"none\")"
   ]
  },
  {
   "cell_type": "code",
   "execution_count": 8,
   "metadata": {},
   "outputs": [],
   "source": [
    "# 補足）リスト6.1.15(wrapオプションの追加)： x軸方向のスクロールバー\n",
    "import tkinter as tk\n",
    "from tkinter import ttk\n",
    "\n",
    "root = tk.Tk()\n",
    "# フレーム\n",
    "frame = ttk.Frame(root, padding = 5)\n",
    "frame.pack(padx = 5, pady = 5)\n",
    "# テキストボックス\n",
    "txtbox = tk.Text(frame, width = 60, height = 20, wrap = \"none\")\n",
    "\n",
    "# スクロールバー作成\n",
    "# y軸方向\n",
    "yscroll = tk.Scrollbar(frame, orient = tk.VERTICAL,\n",
    "                       command = txtbox.yview)\n",
    "txtbox[\"yscrollcommand\"] = yscroll.set\n",
    "yscroll.pack(side = tk.RIGHT, fill = tk.Y)\n",
    "# x軸横方向\n",
    "xscroll = tk.Scrollbar(frame, orient = tk.HORIZONTAL,\n",
    "                            command = txtbox.xview)\n",
    "txtbox[\"xscrollcommand\"] = xscroll.set\n",
    "xscroll.pack(side = tk.BOTTOM, fill = tk.X)\n",
    "\n",
    "# テキストボックスの配置\n",
    "txtbox.pack()\n",
    "\n",
    "root.mainloop()"
   ]
  },
  {
   "cell_type": "markdown",
   "metadata": {},
   "source": [
    "6.1.10 テーブル(表)"
   ]
  },
  {
   "cell_type": "code",
   "execution_count": 1,
   "metadata": {},
   "outputs": [],
   "source": [
    "# リスト6.1.16： 基本的なテーブルの作成\n",
    "import tkinter as tk\n",
    "from tkinter import ttk\n",
    "\n",
    "root = tk.Tk()\n",
    "\n",
    "# テーブルの作成\n",
    "tree = ttk.Treeview(root, height = 3)\n",
    "# 列の作成\n",
    "tree[\"column\"] = (1, 2)\n",
    "tree[\"show\"] = \"headings\"\n",
    "# ヘッダーの定義\n",
    "tree.heading(1, text = \"Status\", anchor = tk.W)\n",
    "tree.heading(2, text = \"Name\", anchor = tk.W)\n",
    "# 列の定義\n",
    "tree.column(1, width = 80)\n",
    "tree.column(2, width = 160)\n",
    "# 値の挿入\n",
    "tree.insert(\"\", \"end\", values = (\"Done\", \"Item1\"))\n",
    "tree.insert(\"\", \"end\", values = (\"Pending\", \"Item2\"))\n",
    "# テーブルの配置\n",
    "tree.pack(padx = 10, pady = 10, fill = tk.BOTH)\n",
    "\n",
    "root.mainloop()"
   ]
  },
  {
   "cell_type": "code",
   "execution_count": 2,
   "metadata": {},
   "outputs": [],
   "source": [
    "# 図6-17.tree[\"show\"] = \"headings\"をコメントアウトした実行結果\n",
    "import tkinter as tk\n",
    "from tkinter import ttk\n",
    "\n",
    "root = tk.Tk()\n",
    "\n",
    "# テーブルの作成\n",
    "tree = ttk.Treeview(root, height = 3)\n",
    "# 列の作成\n",
    "tree[\"column\"] = (1, 2)\n",
    "#tree[\"show\"] = \"headings\"\n",
    "# ヘッダーの定義\n",
    "tree.heading(1, text = \"Status\", anchor = tk.W)\n",
    "tree.heading(2, text = \"Name\", anchor = tk.W)\n",
    "# 列の定義\n",
    "tree.column(1, width = 80)\n",
    "tree.column(2, width = 160)\n",
    "# 値の挿入\n",
    "tree.insert(\"\", \"end\", values = (\"Done\", \"Item1\"))\n",
    "tree.insert(\"\", \"end\", values = (\"Pending\", \"Item2\"))\n",
    "# テーブルの配置\n",
    "tree.pack(padx = 10, pady = 10, fill = tk.BOTH)\n",
    "\n",
    "root.mainloop()"
   ]
  },
  {
   "cell_type": "code",
   "execution_count": 3,
   "metadata": {},
   "outputs": [],
   "source": [
    "# リスト6.1.19： ボタンの追加\n",
    "import tkinter as tk\n",
    "from tkinter import ttk\n",
    "\n",
    "root = tk.Tk()\n",
    "\n",
    "# テーブルの作成\n",
    "tree = ttk.Treeview(root, height = 3)\n",
    "# 列の作成\n",
    "tree[\"column\"] = (1, 2)\n",
    "tree[\"show\"] = \"headings\"\n",
    "# ヘッダーの定義\n",
    "tree.heading(1, text = \"Status\", anchor = tk.W)\n",
    "tree.heading(2, text = \"Name\", anchor = tk.W)\n",
    "# 列の定義\n",
    "tree.column(1, width = 80)\n",
    "tree.column(2, width = 160)\n",
    "# 値の挿入\n",
    "tree.insert(\"\", \"end\", values = (\"Done\", \"Item1\"))\n",
    "tree.insert(\"\", \"end\", values = (\"Pending\", \"Item2\"))\n",
    "# テーブルの配置\n",
    "tree.pack(padx = 10, pady = 10, fill = tk.BOTH)\n",
    "# ボタン\n",
    "push_button = tk.Button(root, text = \"Push\")\n",
    "push_button.pack(pady = 10)\n",
    "\n",
    "root.mainloop()"
   ]
  },
  {
   "cell_type": "code",
   "execution_count": 4,
   "metadata": {},
   "outputs": [],
   "source": [
    "# リスト6.1.20： テーブルの選択したデータを取得する関数 (get_vule関数)\n",
    "def get_vule():\n",
    "    # 選択した行の取得\n",
    "    slctItems = tree.selection()\n",
    "    # 選択した2列目の値を取得\n",
    "    values = tree.item(slctItems[0])[\"values\"][1]\n",
    "    # 値を出力\n",
    "    print(values)"
   ]
  },
  {
   "cell_type": "code",
   "execution_count": 5,
   "metadata": {},
   "outputs": [
    {
     "name": "stdout",
     "output_type": "stream",
     "text": [
      "Item2\n"
     ]
    }
   ],
   "source": [
    "# リスト6.1.22： テーブルの選択行を出力するコード\n",
    "import tkinter as tk\n",
    "from tkinter import ttk\n",
    "\n",
    "#####  関数  #####\n",
    "def get_vule():\n",
    "    slctItems = tree.selection()\n",
    "    values = tree.item(slctItems[0])[\"values\"][1]\n",
    "    print(values)\n",
    "\n",
    "#####  GUI  #####\n",
    "root = tk.Tk()\n",
    "\n",
    "# テーブル\n",
    "tree = ttk.Treeview(root, height = 3)\n",
    "tree[\"column\"] = (1, 2)\n",
    "tree[\"show\"] = \"headings\"\n",
    "tree.heading(1, text = \"Status\", anchor = tk.W)\n",
    "tree.heading(2, text = \"Name\", anchor = tk.W)\n",
    "tree.column(1, width = 80)\n",
    "tree.column(2, width = 160)\n",
    "tree.insert(\"\", \"end\", values = (\"Done\", \"Item1\"))\n",
    "tree.insert(\"\", \"end\", values = (\"Pending\", \"Item2\"))\n",
    "tree.pack(padx = 10, pady = 10, fill = tk.BOTH)\n",
    "# ボタン\n",
    "push_button = tk.Button(root, text = \"Push\", command = get_vule)\n",
    "push_button.pack(pady = 10)\n",
    "\n",
    "root.mainloop()"
   ]
  },
  {
   "cell_type": "code",
   "execution_count": 6,
   "metadata": {},
   "outputs": [],
   "source": [
    "# リスト6.1.23： エラーの回避例\n",
    "def get_vule():\n",
    "    slctItems = tree.selection()\n",
    "    if not slctItems:\n",
    "        return\n",
    "    values = tree.item(slctItems[0])[\"values\"][1]\n",
    "    print(values)"
   ]
  },
  {
   "cell_type": "code",
   "execution_count": 7,
   "metadata": {},
   "outputs": [],
   "source": [
    "# リスト6.1.24： テーブルにデータを追加する関数 (insert_vule関数)\n",
    "def insert_vule():\n",
    "    tree.insert(\"\", \"end\", values = (\"Pending\", \"Item3\"))"
   ]
  },
  {
   "cell_type": "code",
   "execution_count": 8,
   "metadata": {},
   "outputs": [],
   "source": [
    "# リスト6.1.25： テーブルにデータを追加するコード\n",
    "import tkinter as tk\n",
    "from tkinter import ttk\n",
    "\n",
    "#####  関数  #####\n",
    "def insert_vule():\n",
    "    tree.insert(\"\", \"end\", values = (\"Pending\", \"Item3\"))\n",
    "    \n",
    "#####  GUI  #####\n",
    "root = tk.Tk()\n",
    "\n",
    "# フレーム作成\n",
    "frame = ttk.Frame(root, paddin = 10)\n",
    "frame.pack()\n",
    "# テーブルの作成\n",
    "tree = ttk.Treeview(frame, height = 3)\n",
    "tree[\"column\"] = (1, 2)\n",
    "tree[\"show\"] = \"headings\"\n",
    "tree.heading(1, text = \"Status\", anchor = tk.W)\n",
    "tree.heading(2, text = \"Name\", anchor = tk.W)\n",
    "tree.column(1, width = 80)\n",
    "tree.column(2, width = 160)\n",
    "tree.insert(\"\", \"end\", values = (\"Done\", \"Item1\"))\n",
    "tree.insert(\"\", \"end\", values = (\"Pending\", \"Item2\"))\n",
    "# スクロールバー作成\n",
    "yscroll = tk.Scrollbar(frame, orient = tk.VERTICAL,\n",
    "                       command = tree.yview)\n",
    "yscroll.pack(side = tk.RIGHT, fill = \"y\")\n",
    "tree[\"yscrollcommand\"] = yscroll.set\n",
    "# テーブルの配置\n",
    "tree.pack(fill = tk.BOTH)\n",
    "# ボタン\n",
    "push_button = tk.Button(root, text = \"Push\",command = insert_vule)\n",
    "push_button.pack(pady = 10)\n",
    "\n",
    "root.mainloop()"
   ]
  },
  {
   "cell_type": "code",
   "execution_count": 9,
   "metadata": {},
   "outputs": [],
   "source": [
    "# リスト6.1.26： テーブルの選択したデータを削除する関数 (del_vule関数)\n",
    "def del_vule():\n",
    "    # 選択した値の取得\n",
    "    slctItems = tree.selection()\n",
    "    # 削除\n",
    "    tree.delete(slctItems)"
   ]
  },
  {
   "cell_type": "code",
   "execution_count": 10,
   "metadata": {},
   "outputs": [],
   "source": [
    "# リスト6.1.26を実装\n",
    "import tkinter as tk\n",
    "from tkinter import ttk\n",
    "\n",
    "#####  関数  #####\n",
    "def del_vule():\n",
    "    # 選択した値の取得\n",
    "    slctItems = tree.selection()\n",
    "    # 削除\n",
    "    tree.delete(slctItems)\n",
    "\n",
    "#####  GUI  #####\n",
    "root = tk.Tk()\n",
    "\n",
    "# テーブル\n",
    "tree = ttk.Treeview(root, height = 3)\n",
    "tree[\"column\"] = (1, 2)\n",
    "tree[\"show\"] = \"headings\"\n",
    "tree.heading(1, text = \"Status\", anchor = tk.W)\n",
    "tree.heading(2, text = \"Name\", anchor = tk.W)\n",
    "tree.column(1, width = 80)\n",
    "tree.column(2, width = 160)\n",
    "tree.insert(\"\", \"end\", values = (\"Done\", \"Item1\"))\n",
    "tree.insert(\"\", \"end\", values = (\"Pending\", \"Item2\"))\n",
    "tree.pack(padx = 10, pady = 10, fill = tk.BOTH)\n",
    "# ボタン\n",
    "push_button = tk.Button(root, text = \"Push\", command = del_vule)\n",
    "push_button.pack(pady = 10)\n",
    "\n",
    "root.mainloop()"
   ]
  },
  {
   "cell_type": "code",
   "execution_count": 11,
   "metadata": {},
   "outputs": [],
   "source": [
    "# リスト6.1.27： テーブル上の全データを削除する関数 (alldel_vule関数)\n",
    "def alldel_vule():\n",
    "    for child in  tree.get_children():\n",
    "        tree.delete(child)"
   ]
  },
  {
   "cell_type": "code",
   "execution_count": 12,
   "metadata": {},
   "outputs": [],
   "source": [
    "# リスト6.1.27を実装\n",
    "import tkinter as tk\n",
    "from tkinter import ttk\n",
    "\n",
    "#####  関数  #####\n",
    "def alldel_vule():\n",
    "    for child in  tree.get_children():\n",
    "        tree.delete(child)\n",
    "\n",
    "#####  GUI  #####\n",
    "root = tk.Tk()\n",
    "\n",
    "# テーブル\n",
    "tree = ttk.Treeview(root, height = 3)\n",
    "tree[\"column\"] = (1, 2)\n",
    "tree[\"show\"] = \"headings\"\n",
    "tree.heading(1, text = \"Status\", anchor = tk.W)\n",
    "tree.heading(2, text = \"Name\", anchor = tk.W)\n",
    "tree.column(1, width = 80)\n",
    "tree.column(2, width = 160)\n",
    "tree.insert(\"\", \"end\", values = (\"Done\", \"Item1\"))\n",
    "tree.insert(\"\", \"end\", values = (\"Pending\", \"Item2\"))\n",
    "tree.pack(padx = 10, pady = 10, fill = tk.BOTH)\n",
    "# ボタン\n",
    "push_button = tk.Button(root, text = \"Push\", command = alldel_vule)\n",
    "push_button.pack(pady = 10)\n",
    "\n",
    "root.mainloop()"
   ]
  }
 ],
 "metadata": {
  "kernelspec": {
   "display_name": "Python 3",
   "language": "python",
   "name": "python3"
  },
  "language_info": {
   "codemirror_mode": {
    "name": "ipython",
    "version": 3
   },
   "file_extension": ".py",
   "mimetype": "text/x-python",
   "name": "python",
   "nbconvert_exporter": "python",
   "pygments_lexer": "ipython3",
   "version": "3.8.8"
  }
 },
 "nbformat": 4,
 "nbformat_minor": 4
}
