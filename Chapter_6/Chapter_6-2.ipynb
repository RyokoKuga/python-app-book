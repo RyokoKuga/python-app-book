{
 "cells": [
  {
   "cell_type": "markdown",
   "metadata": {},
   "source": [
    "# Chapter6： 付録"
   ]
  },
  {
   "cell_type": "markdown",
   "metadata": {},
   "source": [
    "### 6.2　ウイジットの配色例  \n",
    "※ Macの場合は、ボタンの色など一部の効果がGUIに反映されない場合があります。"
   ]
  },
  {
   "cell_type": "code",
   "execution_count": 1,
   "metadata": {},
   "outputs": [],
   "source": [
    "# リスト6.2.1： リスト6.1.11へのボタンの追加\n",
    "import tkinter as tk\n",
    "\n",
    "root = tk.Tk()\n",
    "\n",
    "# 背景色の指定\n",
    "root.configure(bg = \"red\")\n",
    "# ボタン\n",
    "push_button = tk.Button(root, text = \"Push\", bg = \"#00ffff\")\n",
    "push_button.pack(padx = 30, pady = 30)\n",
    "\n",
    "root.mainloop()"
   ]
  },
  {
   "cell_type": "code",
   "execution_count": 2,
   "metadata": {},
   "outputs": [],
   "source": [
    "# リスト6.2.2： ボタンの色の動的変更\n",
    "import tkinter as tk\n",
    "\n",
    "root = tk.Tk()\n",
    "\n",
    "# ボタン\n",
    "push_button = tk.Button(root, text = \"Push\", bg = \"#00ffff\",\n",
    "                        command = lambda: push_button.configure\n",
    "                        (bg = \"yellow\"))\n",
    "push_button.pack(padx = 30, pady = 30)\n",
    "\n",
    "root.mainloop()"
   ]
  },
  {
   "cell_type": "code",
   "execution_count": 3,
   "metadata": {},
   "outputs": [],
   "source": [
    "# リスト6.2.3： ボタンのフォント色の指定\n",
    "import tkinter as tk\n",
    "\n",
    "root = tk.Tk()\n",
    "\n",
    "# ボタン\n",
    "push_button = tk.Button(root, text = \"Push\", fg = \"#00ffff\")\n",
    "push_button.pack(padx = 30, pady = 30)\n",
    "\n",
    "root.mainloop()"
   ]
  },
  {
   "cell_type": "code",
   "execution_count": 4,
   "metadata": {},
   "outputs": [],
   "source": [
    "# リスト6.2.4： フォントの設定例\n",
    "import tkinter as tk\n",
    "\n",
    "root = tk.Tk()\n",
    "\n",
    "# ボタン\n",
    "push_button = tk.Button(root, text = \"Push\", fg = \"#00ffff\")\n",
    "push_button.configure(font = (\"Arial\", 18, \"bold\", \"italic\",\n",
    "                              \"underline\", \"overstrike\"))\n",
    "push_button.pack(padx = 30, pady = 30)\n",
    "\n",
    "root.mainloop()"
   ]
  },
  {
   "cell_type": "code",
   "execution_count": 5,
   "metadata": {},
   "outputs": [],
   "source": [
    "# リスト6.2.5： fontモジュールによるフォントの設定例\n",
    "import tkinter as tk\n",
    "import tkinter.font as font\n",
    "\n",
    "root = tk.Tk()\n",
    "\n",
    "# フォントの設定\n",
    "my_font = font.Font(root, family = \"Arial\", size = 18,\n",
    "                   weight = \"bold\",slant = \"italic\",\n",
    "                   underline = True, overstrike = True)\n",
    "# ボタン\n",
    "push_button = tk.Button(root, text = \"Push\",\n",
    "                        fg = \"#00ffff\", font = my_font)\n",
    "push_button.pack(padx = 30, pady = 30)\n",
    "\n",
    "root.mainloop()"
   ]
  },
  {
   "cell_type": "code",
   "execution_count": 6,
   "metadata": {
    "scrolled": true
   },
   "outputs": [
    {
     "name": "stdout",
     "output_type": "stream",
     "text": [
      "('System', '@System', 'Terminal', '@Terminal', 'FixedSys', '@FixedSys', 'Modern', 'Roman', 'Script', 'Courier', 'MS Serif', 'MS Sans Serif', 'Small Fonts', '@Small Fonts', 'SWMacro', 'Adobe Devanagari', 'CONDENSEicon', '源ノ角ゴシック', '@源ノ角ゴシック', '源ノ角ゴシック ExtraLight', '@源ノ角ゴシック ExtraLight', '源ノ角ゴシック Heavy', '@源ノ角ゴシック Heavy', '源ノ角ゴシック Light', '@源ノ角ゴシック Light', '源ノ角ゴシック Medium', '@源ノ角ゴシック Medium', '源ノ角ゴシック Normal', '@源ノ角ゴシック Normal', 'Marlett', 'Arial', 'Arabic Transparent', 'Arial Baltic', 'Arial CE', 'Arial CYR', 'Arial Greek', 'Arial TUR', 'Arial Black', 'Bahnschrift Light', 'Bahnschrift SemiLight', 'Bahnschrift', 'Bahnschrift SemiBold', 'Bahnschrift Light SemiCondensed', 'Bahnschrift SemiLight SemiConde', 'Bahnschrift SemiCondensed', 'Bahnschrift SemiBold SemiConden', 'Bahnschrift Light Condensed', 'Bahnschrift SemiLight Condensed', 'Bahnschrift Condensed', 'Bahnschrift SemiBold Condensed', 'Calibri', 'Calibri Light', 'Cambria', 'Cambria Math', 'Candara', 'Candara Light', 'Comic Sans MS', 'Consolas', 'Constantia', 'Corbel', 'Corbel Light', 'Courier New', 'Courier New Baltic', 'Courier New CE', 'Courier New CYR', 'Courier New Greek', 'Courier New TUR', 'Ebrima', 'Franklin Gothic Medium', 'Gabriola', 'Gadugi', 'Georgia', 'HoloLens MDL2 Assets', 'Impact', 'Ink Free', 'Javanese Text', 'Leelawadee UI', 'Leelawadee UI Semilight', 'Lucida Console', 'Lucida Sans Unicode', 'Malgun Gothic', '@Malgun Gothic', 'Malgun Gothic Semilight', '@Malgun Gothic Semilight', 'Microsoft Himalaya', 'Microsoft JhengHei', '@Microsoft JhengHei', 'Microsoft JhengHei UI', '@Microsoft JhengHei UI', 'Microsoft JhengHei Light', '@Microsoft JhengHei Light', 'Microsoft JhengHei UI Light', '@Microsoft JhengHei UI Light', 'Microsoft New Tai Lue', 'Microsoft PhagsPa', 'Microsoft Sans Serif', 'Microsoft Tai Le', 'Microsoft YaHei', '@Microsoft YaHei', 'Microsoft YaHei UI', '@Microsoft YaHei UI', 'Microsoft YaHei Light', '@Microsoft YaHei Light', 'Microsoft YaHei UI Light', '@Microsoft YaHei UI Light', 'Microsoft Yi Baiti', 'MingLiU-ExtB', '@MingLiU-ExtB', 'PMingLiU-ExtB', '@PMingLiU-ExtB', 'MingLiU_HKSCS-ExtB', '@MingLiU_HKSCS-ExtB', 'Mongolian Baiti', 'ＭＳ ゴシック', '@ＭＳ ゴシック', 'MS UI Gothic', '@MS UI Gothic', 'ＭＳ Ｐゴシック', '@ＭＳ Ｐゴシック', 'MV Boli', 'Myanmar Text', 'Nirmala UI', 'Nirmala UI Semilight', 'Palatino Linotype', 'Segoe MDL2 Assets', 'Segoe Print', 'Segoe Script', 'Segoe UI', 'Segoe UI Black', 'Segoe UI Emoji', 'Segoe UI Historic', 'Segoe UI Light', 'Segoe UI Semibold', 'Segoe UI Semilight', 'Segoe UI Symbol', 'SimSun', '@SimSun', 'NSimSun', '@NSimSun', 'SimSun-ExtB', '@SimSun-ExtB', 'Sitka Small', 'Sitka Text', 'Sitka Subheading', 'Sitka Heading', 'Sitka Display', 'Sitka Banner', 'Sylfaen', 'Symbol', 'Tahoma', 'Times New Roman', 'Times New Roman Baltic', 'Times New Roman CE', 'Times New Roman CYR', 'Times New Roman Greek', 'Times New Roman TUR', 'Trebuchet MS', 'Verdana', 'Webdings', 'Wingdings', '游ゴシック', '@游ゴシック', 'Yu Gothic UI', '@Yu Gothic UI', 'Yu Gothic UI Semibold', '@Yu Gothic UI Semibold', '游ゴシック Light', '@游ゴシック Light', 'Yu Gothic UI Light', '@Yu Gothic UI Light', '游ゴシック Medium', '@游ゴシック Medium', 'Yu Gothic UI Semilight', '@Yu Gothic UI Semilight', 'BIZ UDゴシック', '@BIZ UDゴシック', 'BIZ UDPゴシック', '@BIZ UDPゴシック', 'BIZ UD明朝 Medium', '@BIZ UD明朝 Medium', 'BIZ UDP明朝 Medium', '@BIZ UDP明朝 Medium', 'メイリオ', '@メイリオ', 'Meiryo UI', '@Meiryo UI', 'ＭＳ 明朝', '@ＭＳ 明朝', 'ＭＳ Ｐ明朝', '@ＭＳ Ｐ明朝', 'UD デジタル 教科書体 N-B', '@UD デジタル 教科書体 N-B', 'UD デジタル 教科書体 NP-B', '@UD デジタル 教科書体 NP-B', 'UD デジタル 教科書体 NK-B', '@UD デジタル 教科書体 NK-B', 'UD デジタル 教科書体 N-R', '@UD デジタル 教科書体 N-R', 'UD デジタル 教科書体 NP-R', '@UD デジタル 教科書体 NP-R', 'UD デジタル 教科書体 NK-R', '@UD デジタル 教科書体 NK-R', '游明朝', '@游明朝', '游明朝 Demibold', '@游明朝 Demibold', '游明朝 Light', '@游明朝 Light', 'OCRB', 'HG行書体', '@HG行書体', 'HGP行書体', '@HGP行書体', 'HGS行書体', '@HGS行書体', 'HGｺﾞｼｯｸM', '@HGｺﾞｼｯｸM', 'HGPｺﾞｼｯｸM', '@HGPｺﾞｼｯｸM', 'HGSｺﾞｼｯｸM', '@HGSｺﾞｼｯｸM', 'HG教科書体', '@HG教科書体', 'HGP教科書体', '@HGP教科書体', 'HGS教科書体', '@HGS教科書体', 'HG明朝B', '@HG明朝B', 'HGP明朝B', '@HGP明朝B', 'HGS明朝B', '@HGS明朝B', 'HG明朝E', '@HG明朝E', 'HGP明朝E', '@HGP明朝E', 'HGS明朝E', '@HGS明朝E', 'HG創英ﾌﾟﾚｾﾞﾝｽEB', '@HG創英ﾌﾟﾚｾﾞﾝｽEB', 'HGP創英ﾌﾟﾚｾﾞﾝｽEB', '@HGP創英ﾌﾟﾚｾﾞﾝｽEB', 'HGS創英ﾌﾟﾚｾﾞﾝｽEB', '@HGS創英ﾌﾟﾚｾﾞﾝｽEB', 'HG正楷書体-PRO', '@HG正楷書体-PRO', 'HG創英角ﾎﾟｯﾌﾟ体', '@HG創英角ﾎﾟｯﾌﾟ体', 'HGP創英角ﾎﾟｯﾌﾟ体', '@HGP創英角ﾎﾟｯﾌﾟ体', 'HGS創英角ﾎﾟｯﾌﾟ体', '@HGS創英角ﾎﾟｯﾌﾟ体', 'HG創英角ｺﾞｼｯｸUB', '@HG創英角ｺﾞｼｯｸUB', 'HGP創英角ｺﾞｼｯｸUB', '@HGP創英角ｺﾞｼｯｸUB', 'HGS創英角ｺﾞｼｯｸUB', '@HGS創英角ｺﾞｼｯｸUB', 'HG丸ｺﾞｼｯｸM-PRO', '@HG丸ｺﾞｼｯｸM-PRO', 'HGｺﾞｼｯｸE', '@HGｺﾞｼｯｸE', 'HGPｺﾞｼｯｸE', '@HGPｺﾞｼｯｸE', 'HGSｺﾞｼｯｸE', '@HGSｺﾞｼｯｸE', 'Century', 'Leelawadee', 'Microsoft Uighur', 'Wingdings 2', 'Wingdings 3', 'Algerian', 'Baskerville Old Face', 'Bauhaus 93', 'Bell MT', 'Berlin Sans FB', 'Bernard MT Condensed', 'Bodoni MT Poster Compressed', 'Britannic Bold', 'Broadway', 'Brush Script MT', 'Californian FB', 'Centaur', 'Century Gothic', 'Chiller', 'Colonna MT', 'Cooper Black', 'Footlight MT Light', 'Freestyle Script', 'Harlow Solid Italic', 'Harrington', 'High Tower Text', 'Jokerman', 'Juice ITC', 'Kristen ITC', 'Kunstler Script', 'Lucida Bright', 'Lucida Calligraphy', 'Lucida Fax', 'Lucida Handwriting', 'Magneto', 'Matura MT Script Capitals', 'Mistral', 'Modern No. 20', 'Monotype Corsiva', 'Niagara Engraved', 'Niagara Solid', 'Old English Text MT', 'Onyx', 'Parchment', 'Playbill', 'Poor Richard', 'Ravie', 'Informal Roman', 'Showcard Gothic', 'Snap ITC', 'Stencil', 'Tempus Sans ITC', 'Viner Hand ITC', 'Vivaldi', 'Vladimir Script', 'Wide Latin', 'Tw Cen MT', 'Tw Cen MT Condensed', 'Script MT Bold', 'Rockwell Extra Bold', 'Rockwell Condensed', 'Rockwell', 'Rage Italic', 'Pristina', 'Perpetua Titling MT', 'Perpetua', 'Papyrus', 'Palace Script MT', 'OCR A Extended', 'Maiandra GD', 'Lucida Sans Typewriter', 'Lucida Sans', 'Imprint MT Shadow', 'Haettenschweiler', 'Goudy Stout', 'Goudy Old Style', 'Gloucester MT Extra Condensed', 'Gill Sans Ultra Bold Condensed', 'Gill Sans Ultra Bold', 'Gill Sans MT Condensed', 'Gill Sans MT', 'Gill Sans MT Ext Condensed Bold', 'Gigi', 'Garamond', 'French Script MT', 'Franklin Gothic Medium Cond', 'Franklin Gothic Heavy', 'Franklin Gothic Demi Cond', 'Franklin Gothic Demi', 'Franklin Gothic Book', 'Forte', 'Felix Titling', 'Eras Medium ITC', 'Eras Light ITC', 'Eras Demi ITC', 'Eras Bold ITC', 'Engravers MT', 'Elephant', 'Edwardian Script ITC', 'Curlz MT', 'Copperplate Gothic Light', 'Copperplate Gothic Bold', 'Century Schoolbook', 'Castellar', 'Calisto MT', 'Bradley Hand ITC', 'Bookman Old Style', 'Book Antiqua', 'Bodoni MT Condensed', 'Bodoni MT Black', 'Bodoni MT', 'Blackadder ITC', 'Arial Rounded MT Bold', 'Arial Narrow', 'Agency FB', 'MS Outlook', 'Bookshelf Symbol 7', 'MS Reference Sans Serif', 'MS Reference Specialty', 'Berlin Sans FB Demi', 'Tw Cen MT Condensed Extra Bold', 'MT Extra', 'SWGamekeys MT', 'ZWAdobeF', 'ふい字', '@ふい字', 'PixelMplus10', '@PixelMplus10', 'PixelMplus12', '@PixelMplus12')\n"
     ]
    }
   ],
   "source": [
    "# リスト6.2.6： フォントタイプの一覧表示\n",
    "import tkinter as tk\n",
    "import tkinter.font as font\n",
    "\n",
    "root = tk.Tk()\n",
    "\n",
    "# フォントファミリーの取得\n",
    "print(font.families())"
   ]
  }
 ],
 "metadata": {
  "kernelspec": {
   "display_name": "Python 3",
   "language": "python",
   "name": "python3"
  },
  "language_info": {
   "codemirror_mode": {
    "name": "ipython",
    "version": 3
   },
   "file_extension": ".py",
   "mimetype": "text/x-python",
   "name": "python",
   "nbconvert_exporter": "python",
   "pygments_lexer": "ipython3",
   "version": "3.7.6"
  }
 },
 "nbformat": 4,
 "nbformat_minor": 4
}
