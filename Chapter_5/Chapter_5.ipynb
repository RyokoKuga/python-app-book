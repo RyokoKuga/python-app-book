{
 "cells": [
  {
   "cell_type": "markdown",
   "metadata": {},
   "source": [
    "# Chapter5： 実行ファイル形式への変換と公開時の注意点  \n",
    "\n",
    "※ このノートブックのコードセル中のコマンドはJupyter Notebookでは実行できません。  \n",
    "Anaconda Promptのプロンプト画面より実行してください。"
   ]
  },
  {
   "cell_type": "markdown",
   "metadata": {},
   "source": [
    "### 5.2　外部ライブラリをインストールする方法を学ぼう  "
   ]
  },
  {
   "cell_type": "code",
   "execution_count": null,
   "metadata": {},
   "outputs": [],
   "source": [
    "#リスト5.2.1： Pyinstallerのインストール\n",
    "conda install -c conda-forge pyinstaller"
   ]
  },
  {
   "cell_type": "code",
   "execution_count": null,
   "metadata": {},
   "outputs": [],
   "source": [
    "# リスト5.2.2： Pyinstallerのpipインストール\n",
    "pip install pyinstaller"
   ]
  },
  {
   "cell_type": "markdown",
   "metadata": {},
   "source": [
    "### 5.3　スクリプトを実行ファイル形式へ変換しよう"
   ]
  },
  {
   "cell_type": "code",
   "execution_count": null,
   "metadata": {},
   "outputs": [],
   "source": [
    "# リスト5.3.1： UTF-8 codingの宣言\n",
    "# coding: utf-8"
   ]
  },
  {
   "cell_type": "code",
   "execution_count": null,
   "metadata": {},
   "outputs": [],
   "source": [
    "# リスト5.3.2： cdコマンド\n",
    "cd C:\\Users\\***\\Desktop\\Editor"
   ]
  },
  {
   "cell_type": "code",
   "execution_count": null,
   "metadata": {},
   "outputs": [],
   "source": [
    "# リスト5.3.4： 実行ファイル形式への変換\n",
    "pyinstaller Editor.py --noconsole --onefile"
   ]
  },
  {
   "cell_type": "code",
   "execution_count": null,
   "metadata": {},
   "outputs": [],
   "source": [
    "# リスト5.3.5： 実行ファイル形式への変換 (onefileオプションなし)\n",
    "pyinstaller Editor.py --noconsole"
   ]
  },
  {
   "cell_type": "code",
   "execution_count": null,
   "metadata": {},
   "outputs": [],
   "source": [
    "# リスト5.3.6： 実行ファイル形式への変換 (iconオプション)\n",
    "pyinstaller Editor.py --noconsole --onefile --icon=Editor.ico"
   ]
  },
  {
   "cell_type": "markdown",
   "metadata": {},
   "source": [
    "### 5.4　アプリケーションを公開する際の注意点  \n",
    "※) テキストファイル等に以下内容を貼り付けて活用してください。"
   ]
  },
  {
   "cell_type": "code",
   "execution_count": null,
   "metadata": {},
   "outputs": [],
   "source": [
    "# リスト5.4.1： READMEの内容例\n",
    "========== ========== ==========\n",
    "  Editor  ver.1.00\n",
    "========== ========== ==========\n",
    "\n",
    "【 ソフト名 】Editor\n",
    "【 製 作 者 】xxxxx\n",
    "【  種  別  】フリーソフト\n",
    "【 動作環境 】Windows 10.\n",
    "【バージョン】1.00\n",
    "【最終更新日】2020/12/01\n",
    "【 Web site 】https://xxxxx\n",
    "---------- ----------\n",
    "◇ 概要 ◇\n",
    "複数の定型文を登録して使用できる、シンプルなテキストエディッタです。\n",
    "\n",
    "◇ インストール ◇\n",
    "ダウンロードしたzipファイルを、適当なフォルダに解凍して下さい。ファイルの中の「Editor」がソフトウエア本体です。同梱の関連ファイルを削除したり、ソフトウエア本体をフォルダ外へ移動したりすると正常に動作しなくなるので注意してください。Editor.exeのショートカットを好きな場所に作成して利用することをおすすめします。\n",
    "\n",
    "◇ アンインストール ◇\n",
    "フォルダごと削除して下さい。フォルダ外へのファイルの作成は行いません。また、レジストリの変更も行いません。\n",
    "\n",
    "◇ 使い方 ◇\n",
    "メイン画面の[Fixed Phrase]ボタンをクリックすると、定型文の登録・呼出しウインドウが開きます。定型文を登録したいSave Slotを選択した状態で、Fixed Phrase:にテキストを入力し、[Save]ボタンをクリックします。登録した定型文のSave Slotを選択した状態で、[Set]ボタンをクリックすると、メイン画面に定型文が挿入されます。\n",
    "\n",
    "◇ 免責 ◇\n",
    "本ソフトウエアは十分なテストを行っていますが、動作に関してなんらかの保証をするものではなく、いかなる運用結果についても一切の責任を負いません。あらかじめご了承ください。\n",
    "\n",
    "◇ 転載 ◇\n",
    "各種ネットワークやメディアに転載する際は、ダウンロードページのURLとWebページ名を明記してください。再配布・販売・改変については禁止します。\n",
    "\n",
    "----------\n",
    "◇ 連絡先 ◇\n",
    "Web : https://xxxxx\n",
    "E-mail : xxxxx@xxxmail.com\n",
    "◇ 履歴 ◇\n",
    "2020/12/01 Ver.1.00\n",
    "\n",
    "---------- 以上 ----------"
   ]
  }
 ],
 "metadata": {
  "kernelspec": {
   "display_name": "Python 3",
   "language": "python",
   "name": "python3"
  },
  "language_info": {
   "codemirror_mode": {
    "name": "ipython",
    "version": 3
   },
   "file_extension": ".py",
   "mimetype": "text/x-python",
   "name": "python",
   "nbconvert_exporter": "python",
   "pygments_lexer": "ipython3",
   "version": "3.7.6"
  }
 },
 "nbformat": 4,
 "nbformat_minor": 4
}
