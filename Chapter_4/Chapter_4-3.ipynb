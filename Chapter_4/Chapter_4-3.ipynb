{
 "cells": [
  {
   "cell_type": "markdown",
   "metadata": {},
   "source": [
    "# Chapter4： 実践的なアプリケーションを作ってみよう"
   ]
  },
  {
   "cell_type": "markdown",
   "metadata": {},
   "source": [
    "### 4.3　ファイル整理ソフトを作ってみよう①  \n",
    "### 4.3.1　ファイル一覧の取得  \n",
    "A.txt, B.zip, C.xlsx, D.docx, E.py, F.txt, G.zipを準備するのが面倒な場合は、サンプルファイルの「testFolder.zip」を解凍して使用してください。"
   ]
  },
  {
   "cell_type": "code",
   "execution_count": 1,
   "metadata": {},
   "outputs": [
    {
     "data": {
      "text/plain": [
       "['A.txt', 'B.zip', 'C.xlsx', 'D.docx', 'E.py', 'F.txt', 'G.zip']"
      ]
     },
     "execution_count": 1,
     "metadata": {},
     "output_type": "execute_result"
    }
   ],
   "source": [
    "# リスト4.3.1： ファイル一覧の取得\n",
    "# osのインポート\n",
    "import os\n",
    "\n",
    "# ファイル一覧の取得\n",
    "os.listdir(\"testFolder\")"
   ]
  },
  {
   "cell_type": "markdown",
   "metadata": {},
   "source": [
    "### 4.3.2　条件のフィルタリング"
   ]
  },
  {
   "cell_type": "code",
   "execution_count": 2,
   "metadata": {},
   "outputs": [
    {
     "data": {
      "text/plain": [
       "True"
      ]
     },
     "execution_count": 2,
     "metadata": {},
     "output_type": "execute_result"
    }
   ],
   "source": [
    "# リスト4.3.2： endswith関数の例\n",
    "file = \"A.txt\"\n",
    "file.endswith(\".txt\")"
   ]
  },
  {
   "cell_type": "code",
   "execution_count": 3,
   "metadata": {},
   "outputs": [
    {
     "name": "stdout",
     "output_type": "stream",
     "text": [
      "A.txt\n",
      "F.txt\n"
     ]
    }
   ],
   "source": [
    "# リスト4.3.3： リストの拡張子 \n",
    "# osのインポート\n",
    "import os\n",
    "\n",
    "# 拡張子の判別\n",
    "for file in os.listdir(\"testFolder\"):\n",
    "    if file.endswith(\".txt\"):\n",
    "        print(file)"
   ]
  },
  {
   "cell_type": "markdown",
   "metadata": {},
   "source": [
    "### 4.3.3　フォルダの作成とファイルの移動"
   ]
  },
  {
   "cell_type": "code",
   "execution_count": 4,
   "metadata": {},
   "outputs": [],
   "source": [
    "# リスト4.3.4： 拡張子の判別とファイル移動\n",
    "# osのインポート\n",
    "import os\n",
    "# shutilのインポート\n",
    "import shutil\n",
    "\n",
    "# フォルダ作成\n",
    "os.mkdir(\"mvFolder\")\n",
    "# 拡張子の判別\n",
    "for file in os.listdir(\"testFolder\"):\n",
    "    if file.endswith(\".txt\"):\n",
    "        path = \"testFolder\" + \"/\" + file\n",
    "        shutil.move(path, \"mvFolder\")"
   ]
  }
 ],
 "metadata": {
  "kernelspec": {
   "display_name": "Python 3",
   "language": "python",
   "name": "python3"
  },
  "language_info": {
   "codemirror_mode": {
    "name": "ipython",
    "version": 3
   },
   "file_extension": ".py",
   "mimetype": "text/x-python",
   "name": "python",
   "nbconvert_exporter": "python",
   "pygments_lexer": "ipython3",
   "version": "3.7.6"
  }
 },
 "nbformat": 4,
 "nbformat_minor": 4
}
