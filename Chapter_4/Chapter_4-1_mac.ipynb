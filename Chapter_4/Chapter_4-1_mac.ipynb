{
 "cells": [
  {
   "cell_type": "markdown",
   "metadata": {},
   "source": [
    "# Chapter4： 実践的なアプリケーションを作ってみよう"
   ]
  },
  {
   "cell_type": "markdown",
   "metadata": {},
   "source": [
    "### <span style=\"color: red; \">※このノートブックはMac専用です。Windowsユーザーは「Chapter_4-1.ipynb」をご参照ください。</span>   \n",
    "本書中のコードをMacで実行できるように、一部変更していま。"
   ]
  },
  {
   "cell_type": "markdown",
   "metadata": {},
   "source": [
    "### 4.1　アプリケーションランチャーを作ってみよう①  \n",
    "### 4.1.1　設定ファイルの保存・呼出し"
   ]
  },
  {
   "cell_type": "markdown",
   "metadata": {},
   "source": [
    "#### ※以下のコードは、Macに標準で搭載されているTextEdit.app, Safari.app, Preview.appを利用したコード例です。  "
   ]
  },
  {
   "cell_type": "code",
   "execution_count": null,
   "metadata": {},
   "outputs": [],
   "source": [
    "# リスト4.1.1： 設定ファイルの生成 \n",
    "# configparserのインポート\n",
    "import configparser\n",
    "\n",
    "# インスタンス化\n",
    "config = configparser.ConfigParser()\n",
    "# 設定ファイルの内容\n",
    "config[\"Run1\"] = {\n",
    "    \"app1\": \"/Applications/TextEdit.app\",\n",
    "    \"app2\": \"/Applications/Safari.app\"\n",
    "}\n",
    "# 設定ファイルへ書込み\n",
    "with open(\"config.ini\", \"w+\") as file:\n",
    "    config.write(file)"
   ]
  },
  {
   "cell_type": "code",
   "execution_count": null,
   "metadata": {},
   "outputs": [],
   "source": [
    "# リスト4.1.2： 設定ファイル(config.ini)\n",
    "[Run1]\n",
    "app1 = /Applications/TextEdit.app\n",
    "app2 = /Applications/Safari.app\n"
   ]
  },
  {
   "cell_type": "code",
   "execution_count": null,
   "metadata": {},
   "outputs": [],
   "source": [
    "# リスト4.1.3： セクション, 変数の追加例\n",
    "# 設定ファイルの内容\n",
    "config[\"Run1\"] = {\n",
    "    \"app1\": \"/Applications/TextEdit.app\",\n",
    "    \"app2\": \"/Applications/Safari.app\"\n",
    "}\n",
    "\n",
    "config[\"Run2\"] = {\n",
    "    \"app1\": \"/Applications/TextEdit.app\",\n",
    "    \"app2\": \"/Applications/Safari.app\",\n",
    "    \"app3\": \"/Applications/Preview.app\"\n",
    "}"
   ]
  },
  {
   "cell_type": "code",
   "execution_count": null,
   "metadata": {},
   "outputs": [],
   "source": [
    "# リスト4.1.4： 設定の呼出し\n",
    "# 読込む設定ファイルを指定\n",
    "config.read(\"config.ini\")\n",
    "# 設定ファイルから値の取得\n",
    "read_base = config[\"Run1\"]\n",
    "print(read_base.get(\"app1\"))"
   ]
  }
 ],
 "metadata": {
  "kernelspec": {
   "display_name": "Python 3",
   "language": "python",
   "name": "python3"
  },
  "language_info": {
   "codemirror_mode": {
    "name": "ipython",
    "version": 3
   },
   "file_extension": ".py",
   "mimetype": "text/x-python",
   "name": "python",
   "nbconvert_exporter": "python",
   "pygments_lexer": "ipython3",
   "version": "3.8.8"
  }
 },
 "nbformat": 4,
 "nbformat_minor": 4
}
