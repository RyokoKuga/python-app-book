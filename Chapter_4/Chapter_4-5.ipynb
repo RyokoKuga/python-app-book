{
 "cells": [
  {
   "cell_type": "markdown",
   "metadata": {},
   "source": [
    "# Chapter4： 実践的なアプリケーションを作ってみよう"
   ]
  },
  {
   "cell_type": "markdown",
   "metadata": {},
   "source": [
    "### 4.5　テキストエディッタを作ってみよう①"
   ]
  },
  {
   "cell_type": "code",
   "execution_count": 1,
   "metadata": {},
   "outputs": [],
   "source": [
    "# リスト4.5.1： サブウインドウの作成例1\n",
    "# tkinterのインポート\n",
    "import tkinter as tk\n",
    "\n",
    "### GUI ###\n",
    "# ウインドウの作成\n",
    "root = tk.Tk()\n",
    "\n",
    "# サブウインドウの作成\n",
    "mini_window = tk.Toplevel(root)\n",
    "\n",
    "# ウインドウ状態の維持\n",
    "root.mainloop()"
   ]
  },
  {
   "cell_type": "code",
   "execution_count": 2,
   "metadata": {},
   "outputs": [],
   "source": [
    "# リスト4.5.2： サブウインドウの作成例2\n",
    "# tkinterのインポート\n",
    "import tkinter as tk\n",
    "\n",
    "### 関数 ###\n",
    "def sub_window():\n",
    "    # サブウインドウの作成\n",
    "    mini_window = tk.Toplevel(root)\n",
    "    \n",
    "    # ボタン2\n",
    "    button2 = tk.Button(mini_window, text = \"Push2\")\n",
    "    button2.pack(padx = 50, pady = 25)\n",
    "\n",
    "### GUI ###\n",
    "# ウインドウの作成\n",
    "root = tk.Tk()\n",
    "\n",
    "# ボタン1\n",
    "button1 = tk.Button(root, text = \"Push1\",  command = sub_window)\n",
    "button1.pack(padx = 100, pady = 50)\n",
    "\n",
    "# ウインドウ状態の維持\n",
    "root.mainloop()"
   ]
  }
 ],
 "metadata": {
  "kernelspec": {
   "display_name": "Python 3",
   "language": "python",
   "name": "python3"
  },
  "language_info": {
   "codemirror_mode": {
    "name": "ipython",
    "version": 3
   },
   "file_extension": ".py",
   "mimetype": "text/x-python",
   "name": "python",
   "nbconvert_exporter": "python",
   "pygments_lexer": "ipython3",
   "version": "3.7.6"
  }
 },
 "nbformat": 4,
 "nbformat_minor": 4
}
