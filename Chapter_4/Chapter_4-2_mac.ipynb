{
 "cells": [
  {
   "cell_type": "markdown",
   "metadata": {},
   "source": [
    "# Chapter4： 実践的なアプリケーションを作ってみよう"
   ]
  },
  {
   "cell_type": "markdown",
   "metadata": {},
   "source": [
    "### <span style=\"color: red; \">※このノートブックはMac専用です。Windowsユーザーは「Chapter_4-2.ipynb」をご参照ください。</span>  \n",
    "本書中のコードをMacで実行できるように、一部変更していま。"
   ]
  },
  {
   "cell_type": "markdown",
   "metadata": {},
   "source": [
    "### 4.2　アプリケーションランチャーを作ってみよう②  \n",
    "### 4.2.1　GUIの作成"
   ]
  },
  {
   "cell_type": "code",
   "execution_count": 1,
   "metadata": {},
   "outputs": [],
   "source": [
    "# リスト4.2.1： ラベルフレームとボタンの設置\n",
    "# tkinterのインポート\n",
    "import tkinter as tk\n",
    "from tkinter import ttk\n",
    "\n",
    "# ウインドウの作成\n",
    "root = tk.Tk()\n",
    "\n",
    "# ラベルフレーム\n",
    "frame = ttk.Labelframe(root, text = \"Launcher\", padding = 10)\n",
    "frame.grid(row = 0, column = 0, padx = 15, pady = 15)\n",
    "\n",
    "# ボタン\n",
    "run_button1 = tk.Button(frame, text = \"RUN1\")\n",
    "run_button1.grid(row = 0, column = 0, padx = 5)\n",
    "\n",
    "run_button2 = tk.Button(frame, text = \"RUN2\")\n",
    "run_button2.grid(row = 0, column = 1, padx = 5)\n",
    "\n",
    "# ウインドウ状態の維持\n",
    "root.mainloop()"
   ]
  },
  {
   "cell_type": "code",
   "execution_count": 2,
   "metadata": {},
   "outputs": [],
   "source": [
    "# 図4-4.padding=50の場合\n",
    "# tkinterのインポート\n",
    "import tkinter as tk\n",
    "from tkinter import ttk\n",
    "\n",
    "# ウインドウの作成\n",
    "root = tk.Tk()\n",
    "\n",
    "# ラベルフレーム\n",
    "frame = ttk.Labelframe(root, text = \"Launcher\", padding = 50)\n",
    "frame.grid(row = 0, column = 0, padx = 15, pady = 15)\n",
    "\n",
    "# ボタン\n",
    "run_button1 = tk.Button(frame, text = \"RUN1\")\n",
    "run_button1.grid(row = 0, column = 0, padx = 5)\n",
    "\n",
    "run_button2 = tk.Button(frame, text = \"RUN2\")\n",
    "run_button2.grid(row = 0, column = 1, padx = 5)\n",
    "\n",
    "# ウインドウ状態の維持\n",
    "root.mainloop()"
   ]
  },
  {
   "cell_type": "code",
   "execution_count": 3,
   "metadata": {},
   "outputs": [],
   "source": [
    "# 図4-5.row, columnによる配置(左)\n",
    "# tkinterのインポート\n",
    "import tkinter as tk\n",
    "from tkinter import ttk\n",
    "\n",
    "# ウインドウの作成\n",
    "root = tk.Tk()\n",
    "\n",
    "# ラベルフレーム\n",
    "frame = ttk.Labelframe(root, text = \"Launcher\", padding = 10)\n",
    "frame.grid(row = 0, column = 0, padx = 15, pady = 15)\n",
    "\n",
    "# ボタン\n",
    "run_button1 = tk.Button(frame, text = \"RUN1\")\n",
    "run_button1.grid(row = 1, column = 0, padx = 5)\n",
    "\n",
    "run_button2 = tk.Button(frame, text = \"RUN2\")\n",
    "run_button2.grid(row = 0, column = 1, padx = 5)\n",
    "\n",
    "# ウインドウ状態の維持\n",
    "root.mainloop()"
   ]
  },
  {
   "cell_type": "markdown",
   "metadata": {},
   "source": [
    "#### (補足) 「図4-5. row, column による配置」について\n",
    "grid()メソッドのrowとcolumnによる指定は、以下のように表にすると理解しやすくなります。  \n",
    "上記のコード(# 図4-5.row, columnによる配置(左))を、イメージ図に示します。\n",
    "\n",
    "|  | column=0 | column=1 |\n",
    "| :-: | :-: | :-: |\n",
    "| row=0 |    | RUN2 |\n",
    "| row=1 | RUN1 |    |"
   ]
  },
  {
   "cell_type": "code",
   "execution_count": 4,
   "metadata": {},
   "outputs": [],
   "source": [
    "# 図4-5.row, columnによる配置(右)\n",
    "# tkinterのインポート\n",
    "import tkinter as tk\n",
    "from tkinter import ttk\n",
    "\n",
    "# ウインドウの作成\n",
    "root = tk.Tk()\n",
    "\n",
    "# ラベルフレーム\n",
    "frame = ttk.Labelframe(root, text = \"Launcher\", padding = 10)\n",
    "frame.grid(row = 0, column = 0, padx = 15, pady = 15)\n",
    "\n",
    "# ボタン\n",
    "run_button1 = tk.Button(frame, text = \"RUN1\")\n",
    "run_button1.grid(row = 1, column = 0, padx = 5)\n",
    "\n",
    "run_button2 = tk.Button(frame, text = \"RUN2\")\n",
    "run_button2.grid(row = 0, column = 0, padx = 5)\n",
    "\n",
    "# ウインドウ状態の維持\n",
    "root.mainloop()"
   ]
  },
  {
   "cell_type": "code",
   "execution_count": 5,
   "metadata": {},
   "outputs": [],
   "source": [
    "# 図4-6.padxの値変更(padx=20)\n",
    "# tkinterのインポート\n",
    "import tkinter as tk\n",
    "from tkinter import ttk\n",
    "\n",
    "# ウインドウの作成\n",
    "root = tk.Tk()\n",
    "\n",
    "# ラベルフレーム\n",
    "frame = ttk.Labelframe(root, text = \"Launcher\", padding = 10)\n",
    "frame.grid(row = 0, column = 0, padx = 15, pady = 15)\n",
    "\n",
    "# ボタン\n",
    "run_button1 = tk.Button(frame, text = \"RUN1\")\n",
    "run_button1.grid(row = 0, column = 0, padx = 20)\n",
    "\n",
    "run_button2 = tk.Button(frame, text = \"RUN2\")\n",
    "run_button2.grid(row = 0, column = 1, padx = 20)\n",
    "\n",
    "# ウインドウ状態の維持\n",
    "root.mainloop()"
   ]
  },
  {
   "cell_type": "code",
   "execution_count": 6,
   "metadata": {},
   "outputs": [],
   "source": [
    "# リスト4.2.4： メニューバーの作成\n",
    "# tkinterのインポート\n",
    "import tkinter as tk\n",
    "from tkinter import ttk\n",
    "\n",
    "# ウインドウの作成\n",
    "root = tk.Tk()\n",
    "\n",
    "# ラベルフレーム\n",
    "frame = ttk.Labelframe(root, text = \"Launcher\", padding = 10)\n",
    "frame.grid(row = 0, column = 0, padx = 15, pady = 15)\n",
    "\n",
    "# ボタン\n",
    "run_button1 = tk.Button(frame, text = \"RUN1\")\n",
    "run_button1.grid(row=0, column=0, padx = 5)\n",
    "\n",
    "run_button2 = tk.Button(frame, text = \"RUN2\")\n",
    "run_button2.grid(row = 0, column = 1, padx = 5)\n",
    "\n",
    "# メニューバーの作成\n",
    "menubar = tk.Menu(root)\n",
    "root.configure(menu = menubar)\n",
    "\n",
    "# ウインドウ状態の維持\n",
    "root.mainloop()"
   ]
  },
  {
   "cell_type": "code",
   "execution_count": 7,
   "metadata": {},
   "outputs": [],
   "source": [
    "# リスト4.2.5： Fileメニューの追加\n",
    "# tkinterのインポート\n",
    "import tkinter as tk\n",
    "from tkinter import ttk\n",
    "\n",
    "# ウインドウの作成\n",
    "root = tk.Tk()\n",
    "\n",
    "# ラベルフレーム\n",
    "frame = ttk.Labelframe(root, text = \"Launcher\", padding = 10)\n",
    "frame.grid(row = 0, column = 0, padx = 15, pady = 15)\n",
    "\n",
    "# ボタン\n",
    "run_button1 = tk.Button(frame, text = \"RUN1\")\n",
    "run_button1.grid(row = 0, column = 0, padx = 5)\n",
    "\n",
    "run_button2 = tk.Button(frame, text = \"RUN2\")\n",
    "run_button2.grid(row = 0, column = 1, padx = 5)\n",
    "\n",
    "# メニューバーの作成\n",
    "menubar = tk.Menu(root)\n",
    "root.configure(menu = menubar)\n",
    "# Fileメニュー\n",
    "filemenu = tk.Menu(menubar)\n",
    "menubar.add_cascade(label = \"File\", menu = filemenu)\n",
    "\n",
    "# ウインドウ状態の維持\n",
    "root.mainloop()"
   ]
  },
  {
   "cell_type": "code",
   "execution_count": 8,
   "metadata": {},
   "outputs": [],
   "source": [
    "# リスト4.2.6： FileメニューにSettingの追加\n",
    "# tkinterのインポート\n",
    "import tkinter as tk\n",
    "from tkinter import ttk\n",
    "\n",
    "# ウインドウの作成\n",
    "root = tk.Tk()\n",
    "\n",
    "# ラベルフレーム\n",
    "frame = ttk.Labelframe(root, text = \"Launcher\", padding = 10)\n",
    "frame.grid(row = 0, column = 0, padx = 15, pady = 15)\n",
    "\n",
    "# ボタン\n",
    "run_button1 = tk.Button(frame, text = \"RUN1\")\n",
    "run_button1.grid(row = 0, column = 0, padx = 5)\n",
    "\n",
    "run_button2 = tk.Button(frame, text = \"RUN2\")\n",
    "run_button2.grid(row = 0, column = 1, padx = 5)\n",
    "\n",
    "# メニューバーの作成\n",
    "menubar = tk.Menu(root)\n",
    "root.configure(menu = menubar)\n",
    "# Fileメニュー\n",
    "filemenu = tk.Menu(menubar)\n",
    "menubar.add_cascade(label = \"File\", menu = filemenu)\n",
    "# >Setting\n",
    "filemenu.add_command(label = \"Setting\")\n",
    "\n",
    "# ウインドウ状態の維持\n",
    "root.mainloop()"
   ]
  },
  {
   "cell_type": "code",
   "execution_count": 9,
   "metadata": {},
   "outputs": [],
   "source": [
    "# リスト4.2.7： FileメニューにExitとHelpメニューの追加\n",
    "# tkinterのインポート\n",
    "import tkinter as tk\n",
    "from tkinter import ttk\n",
    "\n",
    "# ウインドウの作成\n",
    "root = tk.Tk()\n",
    "\n",
    "# ラベルフレーム\n",
    "frame = ttk.Labelframe(root, text = \"Launcher\", padding = 10)\n",
    "frame.grid(row = 0, column = 0, padx = 15, pady = 15)\n",
    "\n",
    "# ボタン\n",
    "run_button1 = tk.Button(frame, text = \"RUN1\")\n",
    "run_button1.grid(row = 0, column = 0, padx = 5)\n",
    "\n",
    "run_button2 = tk.Button(frame, text = \"RUN2\")\n",
    "run_button2.grid(row = 0, column = 1, padx = 5)\n",
    "\n",
    "# メニューバーの作成\n",
    "menubar = tk.Menu(root)\n",
    "root.configure(menu = menubar)\n",
    "# Fileメニュー\n",
    "filemenu = tk.Menu(menubar)\n",
    "menubar.add_cascade(label = \"File\", menu = filemenu)\n",
    "# >Setting\n",
    "filemenu.add_command(label = \"Setting\")\n",
    "# >Exit\n",
    "filemenu.add_command(label = \"Exit\")\n",
    "# Helpメニュー\n",
    "helpmenu = tk.Menu(menubar)\n",
    "menubar.add_cascade(label = \"Help\", menu = helpmenu)\n",
    "\n",
    "# ウインドウ状態の維持\n",
    "root.mainloop()"
   ]
  },
  {
   "cell_type": "code",
   "execution_count": 10,
   "metadata": {},
   "outputs": [],
   "source": [
    "# リスト4.2.8： メニューバーの設置\n",
    "# tkinterのインポート\n",
    "import tkinter as tk\n",
    "from tkinter import ttk\n",
    "\n",
    "# ウインドウの作成\n",
    "root = tk.Tk()\n",
    "\n",
    "# ラベルフレーム\n",
    "frame = ttk.Labelframe(root, text = \"Launcher\", padding = 10)\n",
    "frame.grid(row = 0, column = 0, padx = 15, pady = 15)\n",
    "\n",
    "# ボタン\n",
    "run_button1 = tk.Button(frame, text = \"RUN1\")\n",
    "run_button1.grid(row = 0, column = 0, padx = 5)\n",
    "\n",
    "run_button2 = tk.Button(frame, text = \"RUN2\")\n",
    "run_button2.grid(row = 0, column = 1, padx = 5)\n",
    "\n",
    "# メニューバーの作成\n",
    "menubar = tk.Menu(root)\n",
    "root.configure(menu = menubar)\n",
    "# Fileメニュー\n",
    "filemenu = tk.Menu(menubar, tearoff = 0)\n",
    "menubar.add_cascade(label = \"File\", menu = filemenu)\n",
    "# >Setting\n",
    "filemenu.add_command(label = \"Setting\")\n",
    "# --- セパレータ ---\n",
    "filemenu.add_separator()\n",
    "# >Exit\n",
    "filemenu.add_command(label = \"Exit\")\n",
    "# Helpメニュー\n",
    "helpmenu = tk.Menu(menubar, tearoff = 0)\n",
    "menubar.add_cascade(label = \"Help\", menu = helpmenu)\n",
    "\n",
    "# ウインドウ状態の維持\n",
    "root.mainloop()"
   ]
  },
  {
   "cell_type": "markdown",
   "metadata": {},
   "source": [
    "### 4.2.2　関数の準備"
   ]
  },
  {
   "cell_type": "code",
   "execution_count": null,
   "metadata": {},
   "outputs": [],
   "source": [
    "# リスト4.2.9： run1_func関数\n",
    "# サブプロセスのインポート\n",
    "import subprocess\n",
    "# configparserのインポート\n",
    "import configparser\n",
    "\n",
    "# configparserのインスタンス化\n",
    "config = configparser.ConfigParser()\n",
    "\n",
    "def run1_func():\n",
    "    # 読込む設定ファイルを指定\n",
    "    config.read(\"config.ini\")\n",
    "    # 設定ファイルから値の取得\n",
    "    read_base = config[\"Run1\"]\n",
    "    app1 = read_base.get(\"app1\")\n",
    "    app2 = read_base.get(\"app2\")\n",
    "\n",
    "    # プログラムのリスト作成\n",
    "    programs = [app1, app2]\n",
    "    # プログラムの起動\n",
    "    for v in programs:\n",
    "        subprocess.Popen([\"open\", v])"
   ]
  },
  {
   "cell_type": "code",
   "execution_count": null,
   "metadata": {},
   "outputs": [],
   "source": [
    "run1_func()"
   ]
  },
  {
   "cell_type": "markdown",
   "metadata": {},
   "source": [
    "#### ※ リスト4.2.10は、設定ファイル(config.ini)の内容をリスト4.2.11の内容に更新して実行してください。"
   ]
  },
  {
   "cell_type": "code",
   "execution_count": null,
   "metadata": {},
   "outputs": [],
   "source": [
    "# リスト4.2.10： run2_func関数\n",
    "def run2_func():\n",
    "    # 読込む設定ファイルを指定\n",
    "    config.read(\"config.ini\")\n",
    "    # 設定ファイルから値の取得\n",
    "    read_base = config[\"Run2\"]\n",
    "    app1 = read_base.get(\"app1\")\n",
    "    app2 = read_base.get(\"app2\")\n",
    "    app3 = read_base.get(\"app3\")\n",
    "\n",
    "    # プログラムのリスト作成\n",
    "    programs = [app1, app2, app3]\n",
    "    # プログラムの起動\n",
    "    for v in programs:\n",
    "        subprocess.Popen([\"open\", v])"
   ]
  },
  {
   "cell_type": "code",
   "execution_count": null,
   "metadata": {},
   "outputs": [],
   "source": [
    "run2_func()"
   ]
  },
  {
   "cell_type": "markdown",
   "metadata": {},
   "source": [
    "#### ※ 「リスト4.2.11： 設定ファイル(config.ini)」の内容は、以下のようにMac用に修正してください。"
   ]
  },
  {
   "cell_type": "code",
   "execution_count": null,
   "metadata": {},
   "outputs": [],
   "source": [
    "# リスト4.2.11： 設定ファイル(config.ini)\n",
    "[Run1]\n",
    "app1 = /Applications/TextEdit.app\n",
    "app2 = /Applications/Safari.app\n",
    "\n",
    "[Run2]\n",
    "app1 = /Applications/TextEdit.app\n",
    "app2 = /Applications/Safari.app\n",
    "app3 = /Applications/Preview.app\n"
   ]
  },
  {
   "cell_type": "code",
   "execution_count": null,
   "metadata": {},
   "outputs": [],
   "source": [
    "# リスト4.2.12： set_func関数\n",
    "# サブプロセスのインポート\n",
    "import subprocess\n",
    "\n",
    "def set_func():\n",
    "    # テキストエディットのパス\n",
    "    textedit = \"/Applications/TextEdit.app\"\n",
    "    # 設定ファイルを開く\n",
    "    subprocess.run([\"open\", \"-a\", textedit, \"config.ini\"])"
   ]
  },
  {
   "cell_type": "code",
   "execution_count": null,
   "metadata": {},
   "outputs": [],
   "source": [
    "set_func()"
   ]
  },
  {
   "cell_type": "markdown",
   "metadata": {},
   "source": [
    "#### ※ リスト4.2.13は、作業デレクトリに「manual.txt」というテキストファイルを作成して実行してください。"
   ]
  },
  {
   "cell_type": "code",
   "execution_count": null,
   "metadata": {},
   "outputs": [],
   "source": [
    "# リスト4.2.13： man_func関数\n",
    "# サブプロセスのインポート\n",
    "import subprocess\n",
    "\n",
    "def man_func():\n",
    "    # マニュアルを開く\n",
    "    subprocess.run([\"open\", \"manual.txt\"])"
   ]
  },
  {
   "cell_type": "code",
   "execution_count": null,
   "metadata": {},
   "outputs": [],
   "source": [
    "man_func()"
   ]
  },
  {
   "cell_type": "code",
   "execution_count": null,
   "metadata": {},
   "outputs": [],
   "source": [
    "# リスト4.2.14： exit_func関数\n",
    "def exit_func():\n",
    "    #ウインドウを閉じる\n",
    "    root.destroy()"
   ]
  },
  {
   "cell_type": "code",
   "execution_count": null,
   "metadata": {},
   "outputs": [],
   "source": [
    "# リスト4.2.15： ウインドウを閉じるラムダ式\n",
    "lambda: root.destroy()"
   ]
  },
  {
   "cell_type": "code",
   "execution_count": null,
   "metadata": {},
   "outputs": [],
   "source": [
    "# リスト4.2.16： ラムダ式の実装\n",
    "# >Exit\n",
    "filemenu.add_command(label = \"Exit\",\n",
    "                     command = lambda: root.destroy())"
   ]
  },
  {
   "cell_type": "code",
   "execution_count": null,
   "metadata": {},
   "outputs": [],
   "source": [
    "# リスト4.2.18： exit_func関数の実装\n",
    "# >Exit\n",
    "filemenu.add_command(label = \"Exit\",\n",
    "                     command = exit_func)"
   ]
  },
  {
   "cell_type": "markdown",
   "metadata": {},
   "source": [
    "### 4.2.3　各ウイジットへ関数の関連付け"
   ]
  },
  {
   "cell_type": "code",
   "execution_count": null,
   "metadata": {},
   "outputs": [],
   "source": [
    "# リスト4.2.19： 完成したコード (アプリケーションランチャー)\n",
    "# インポート\n",
    "import tkinter as tk\n",
    "from tkinter import ttk\n",
    "import subprocess\n",
    "import configparser\n",
    "\n",
    "# configparserのインスタンス化\n",
    "config = configparser.ConfigParser()\n",
    "\n",
    "###  関数  ###\n",
    "# RUN1\n",
    "def run1_func():\n",
    "    # 読込む設定ファイルを指定\n",
    "    config.read(\"config.ini\")\n",
    "    # 設定ファイルから値の取得\n",
    "    read_base = config[\"Run1\"]\n",
    "    app1 = read_base.get(\"app1\")\n",
    "    app2 = read_base.get(\"app2\")\n",
    "    # プログラムのリスト作成\n",
    "    programs = [app1, app2]\n",
    "    # プログラムの起動\n",
    "    for v in programs:\n",
    "        subprocess.Popen([\"open\", v])\n",
    "# RUN2        \n",
    "def run2_func():\n",
    "    # 読込む設定ファイルを指定\n",
    "    config.read(\"config.ini\")\n",
    "    # 設定ファイルから値の取得\n",
    "    read_base = config[\"Run2\"]\n",
    "    app1 = read_base.get(\"app1\")\n",
    "    app2 = read_base.get(\"app2\")\n",
    "    app3 = read_base.get(\"app3\")\n",
    "    # プログラムのリスト作成\n",
    "    programs = [app1, app2, app3]\n",
    "    # プログラムの起動\n",
    "    for v in programs:\n",
    "        subprocess.Popen([\"open\", v])\n",
    "# Setting\n",
    "def set_func():\n",
    "    # テキストエディットのパス\n",
    "    textedit = \"/Applications/TextEdit.app\"\n",
    "    # 設定ファイルを開く\n",
    "    subprocess.run([\"open\", \"-a\", textedit, \"config.ini\"])\n",
    "# Manual\n",
    "def man_func():\n",
    "    # マニュアルを開く\n",
    "    subprocess.run([\"open\", \"manual.txt\"])\n",
    "\n",
    "### GUI  ###\n",
    "# ウインドウの作成\n",
    "root = tk.Tk()\n",
    "# ラベルフレーム\n",
    "frame = ttk.Labelframe(root, text = \"Launcher\", padding = 10)\n",
    "frame.grid(row = 0, column = 0, padx = 15, pady = 15)\n",
    "# ボタン\n",
    "run_button1 = tk.Button(frame, text = \"RUN1\", command = run1_func)\n",
    "run_button1.grid(row = 0, column = 0, padx = 5)\n",
    "\n",
    "run_button2 = tk.Button(frame, text = \"RUN2\", command = run2_func)\n",
    "run_button2.grid(row = 0, column = 1, padx = 5)\n",
    "# メニューバーの作成\n",
    "menubar = tk.Menu(root)\n",
    "root.configure(menu = menubar)\n",
    "# Fileメニュー\n",
    "filemenu = tk.Menu(menubar, tearoff = 0)\n",
    "menubar.add_cascade(label = \"File\", menu = filemenu)\n",
    "# >Setting\n",
    "filemenu.add_command(label = \"Setting\", command = set_func)\n",
    "# --- セパレータ ---\n",
    "filemenu.add_separator()\n",
    "# >Exit\n",
    "filemenu.add_command(label = \"Exit\",\n",
    "                     command = lambda: root.destroy())\n",
    "# Helpメニュー\n",
    "helpmenu = tk.Menu(menubar, tearoff = 0)\n",
    "menubar.add_cascade(label = \"Help\", menu = helpmenu)\n",
    "# >Manual\n",
    "helpmenu.add_command(label = \"Manual\", command = man_func)\n",
    "\n",
    "# ウインドウ状態の維持\n",
    "root.mainloop()"
   ]
  }
 ],
 "metadata": {
  "kernelspec": {
   "display_name": "Python 3",
   "language": "python",
   "name": "python3"
  },
  "language_info": {
   "codemirror_mode": {
    "name": "ipython",
    "version": 3
   },
   "file_extension": ".py",
   "mimetype": "text/x-python",
   "name": "python",
   "nbconvert_exporter": "python",
   "pygments_lexer": "ipython3",
   "version": "3.8.8"
  }
 },
 "nbformat": 4,
 "nbformat_minor": 4
}
