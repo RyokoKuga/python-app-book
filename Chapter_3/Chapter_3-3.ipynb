{
 "cells": [
  {
   "cell_type": "markdown",
   "metadata": {},
   "source": [
    "# Chapter3： Pythonの基本操作を学ぼう"
   ]
  },
  {
   "cell_type": "markdown",
   "metadata": {},
   "source": [
    "### 3.3　テキスト処理の基本を学ぼう\n",
    "### 3.3.1　テキストの書込み"
   ]
  },
  {
   "cell_type": "code",
   "execution_count": 1,
   "metadata": {},
   "outputs": [],
   "source": [
    "# リスト3.3.1： ファイルへの書込み\n",
    "# テキストファイルの作成\n",
    "file = open(\"test.txt\", \"w+\")\n",
    "# ファイルへ書込み\n",
    "file.write(\"OK?\")\n",
    "# ファイルを閉じる\n",
    "file.close()"
   ]
  },
  {
   "cell_type": "code",
   "execution_count": 2,
   "metadata": {},
   "outputs": [],
   "source": [
    "# リスト3.3.2： ファイルへの追記\n",
    "# テキストファイルの作成\n",
    "file = open(\"test.txt\", \"a+\")\n",
    "# ファイルへ書込み\n",
    "file.write(\"OK?\")\n",
    "# ファイルを閉じる\n",
    "file.close()"
   ]
  },
  {
   "cell_type": "code",
   "execution_count": null,
   "metadata": {},
   "outputs": [],
   "source": [
    "# リスト3.3.3： with構文の使用例\n",
    "# ファイルへ書込み\n",
    "with open(\"test.txt\", \"a+\") as file:\n",
    "    file.write(\"OK?\")"
   ]
  },
  {
   "cell_type": "markdown",
   "metadata": {},
   "source": [
    "### 3.3.2　テキストの読込み"
   ]
  },
  {
   "cell_type": "code",
   "execution_count": 3,
   "metadata": {},
   "outputs": [],
   "source": [
    "# リスト3.3.4： ファイルの読込み\n",
    "# ファイルの読込み\n",
    "with open(\"test.txt\", \"r\") as file:\n",
    "    file.read()"
   ]
  },
  {
   "cell_type": "code",
   "execution_count": 4,
   "metadata": {},
   "outputs": [
    {
     "name": "stdout",
     "output_type": "stream",
     "text": [
      "OK?OK?\n"
     ]
    }
   ],
   "source": [
    "# リスト3.3.5： ファイルの読込み (結果の確認)\n",
    "# ファイルの読込み\n",
    "with open(\"test.txt\", \"r\") as file:\n",
    "    v = file.read()\n",
    "# 結果の確認\n",
    "print(v)"
   ]
  }
 ],
 "metadata": {
  "kernelspec": {
   "display_name": "Python 3",
   "language": "python",
   "name": "python3"
  },
  "language_info": {
   "codemirror_mode": {
    "name": "ipython",
    "version": 3
   },
   "file_extension": ".py",
   "mimetype": "text/x-python",
   "name": "python",
   "nbconvert_exporter": "python",
   "pygments_lexer": "ipython3",
   "version": "3.7.6"
  }
 },
 "nbformat": 4,
 "nbformat_minor": 4
}
