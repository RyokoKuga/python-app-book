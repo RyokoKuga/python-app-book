{
 "cells": [
  {
   "cell_type": "markdown",
   "metadata": {},
   "source": [
    "# Chapter3： Pythonの基本操作を学ぼう"
   ]
  },
  {
   "cell_type": "markdown",
   "metadata": {},
   "source": [
    "### 3.5　例外処理の方法を学ぼう"
   ]
  },
  {
   "cell_type": "code",
   "execution_count": 1,
   "metadata": {},
   "outputs": [
    {
     "ename": "FileExistsError",
     "evalue": "[WinError 183] 既に存在するファイルを作成することはできません。: 'newFolder'",
     "output_type": "error",
     "traceback": [
      "\u001b[1;31m---------------------------------------------------------------------------\u001b[0m",
      "\u001b[1;31mFileExistsError\u001b[0m                           Traceback (most recent call last)",
      "\u001b[1;32m<ipython-input-1-50a66e027b86>\u001b[0m in \u001b[0;36m<module>\u001b[1;34m\u001b[0m\n\u001b[0;32m      4\u001b[0m \u001b[1;33m\u001b[0m\u001b[0m\n\u001b[0;32m      5\u001b[0m \u001b[1;31m# フォルダの作成\u001b[0m\u001b[1;33m\u001b[0m\u001b[1;33m\u001b[0m\u001b[1;33m\u001b[0m\u001b[0m\n\u001b[1;32m----> 6\u001b[1;33m \u001b[0mos\u001b[0m\u001b[1;33m.\u001b[0m\u001b[0mmkdir\u001b[0m\u001b[1;33m(\u001b[0m\u001b[1;34m\"newFolder\"\u001b[0m\u001b[1;33m)\u001b[0m\u001b[1;33m\u001b[0m\u001b[1;33m\u001b[0m\u001b[0m\n\u001b[0m",
      "\u001b[1;31mFileExistsError\u001b[0m: [WinError 183] 既に存在するファイルを作成することはできません。: 'newFolder'"
     ]
    }
   ],
   "source": [
    "# リスト3.2.1： フォルダの作成\n",
    "# osのインポート\n",
    "import os\n",
    "\n",
    "# フォルダの作成\n",
    "os.mkdir(\"newFolder\")"
   ]
  },
  {
   "cell_type": "code",
   "execution_count": 2,
   "metadata": {},
   "outputs": [
    {
     "name": "stdout",
     "output_type": "stream",
     "text": [
      "エラー!!\n"
     ]
    }
   ],
   "source": [
    "# リスト3.5.1： 例外処理\n",
    "# osのインポート\n",
    "import os\n",
    "\n",
    "# フォルダの作成\n",
    "try:\n",
    "    os.mkdir(\"newFolder\")\n",
    "except:\n",
    "    print(\"エラー!!\")"
   ]
  },
  {
   "cell_type": "code",
   "execution_count": 3,
   "metadata": {},
   "outputs": [
    {
     "name": "stdout",
     "output_type": "stream",
     "text": [
      "既にファイルが存在します。\n"
     ]
    }
   ],
   "source": [
    "# リスト3.5.2： 条件分岐によるファイル作成\n",
    "# osのインポート\n",
    "import os\n",
    "\n",
    "# 条件分岐によるファイル作成\n",
    "if os.path.exists(\"newFolder\"):\n",
    "    print(\"既にファイルが存在します。\")\n",
    "else:\n",
    "    os.mkdir(\"newFolder\")"
   ]
  },
  {
   "cell_type": "code",
   "execution_count": 4,
   "metadata": {},
   "outputs": [
    {
     "name": "stdout",
     "output_type": "stream",
     "text": [
      "エラー!!\n"
     ]
    }
   ],
   "source": [
    "# リスト3.5.3： 例外処理 (特定のエラーに対応する場合)\n",
    "# osのインポート\n",
    "import os\n",
    "\n",
    "# フォルダの作成\n",
    "try:\n",
    "    os.mkdir(\"newFolder\")\n",
    "except(FileExistsError):\n",
    "    print(\"エラー!!\")"
   ]
  }
 ],
 "metadata": {
  "kernelspec": {
   "display_name": "Python 3",
   "language": "python",
   "name": "python3"
  },
  "language_info": {
   "codemirror_mode": {
    "name": "ipython",
    "version": 3
   },
   "file_extension": ".py",
   "mimetype": "text/x-python",
   "name": "python",
   "nbconvert_exporter": "python",
   "pygments_lexer": "ipython3",
   "version": "3.7.6"
  }
 },
 "nbformat": 4,
 "nbformat_minor": 4
}
