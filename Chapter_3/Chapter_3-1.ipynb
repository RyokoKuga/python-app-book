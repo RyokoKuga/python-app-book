{
 "cells": [
  {
   "cell_type": "markdown",
   "metadata": {},
   "source": [
    "# Chapter3： Pythonの基本操作を学ぼう"
   ]
  },
  {
   "cell_type": "markdown",
   "metadata": {},
   "source": [
    "### <span style=\"color: red; \">※Macユーザーは「Chapter_3-1_mac.ipynb」をご参照ください。</span>"
   ]
  },
  {
   "cell_type": "markdown",
   "metadata": {},
   "source": [
    "### 3.1　外部アプリケーションを操作する方法を学ぼう  "
   ]
  },
  {
   "cell_type": "code",
   "execution_count": 1,
   "metadata": {},
   "outputs": [
    {
     "data": {
      "text/plain": [
       "CompletedProcess(args='C:\\\\WINDOWS\\\\system32\\\\notepad.exe', returncode=0)"
      ]
     },
     "execution_count": 1,
     "metadata": {},
     "output_type": "execute_result"
    }
   ],
   "source": [
    "# リスト3.1.1： メモ帳を起動するコード\n",
    "# サブプロセスのインポート\n",
    "import subprocess\n",
    "\n",
    "# メモ帳のパス\n",
    "notepad = r\"C:\\WINDOWS\\system32\\notepad.exe\"\n",
    "# メモ帳の起動\n",
    "subprocess.run(notepad)"
   ]
  },
  {
   "cell_type": "markdown",
   "metadata": {},
   "source": [
    "### 補足：パスの取得方法  \n",
    "Windowsの場合は、以下の方法でクリップボードにパスをコピーできます。あとは、コードセルにペーストするだけです。  \n",
    "  \n",
    "対象ファイルまたはフォルダを「shift」キー押しながら右クリックし、「パスのコピー」をクリック  "
   ]
  },
  {
   "cell_type": "markdown",
   "metadata": {},
   "source": [
    "#### ※ リスト3.1.2「# txtファイルのパス」のコードは、自身で作成したtest.txtのパスを入力してください。"
   ]
  },
  {
   "cell_type": "code",
   "execution_count": 2,
   "metadata": {},
   "outputs": [
    {
     "data": {
      "text/plain": [
       "CompletedProcess(args=['C:\\\\Program Files\\\\Internet Explorer\\\\iexplore.exe', 'D:\\\\test.txt'], returncode=1)"
      ]
     },
     "execution_count": 2,
     "metadata": {},
     "output_type": "execute_result"
    }
   ],
   "source": [
    "# リスト3.1.2： 特定のファイルを指定したアプリケーションで開く\n",
    "# サブプロセスのインポート\n",
    "import subprocess\n",
    "\n",
    "# Webブラウザのパス\n",
    "ie = r\"C:\\Program Files\\Internet Explorer\\iexplore.exe\"\n",
    "# txtファイルのパス\n",
    "file = r\"D:\\test.txt\"\n",
    "# Webブラウザでtxtファイルを開く\n",
    "subprocess.run ([ie, file])"
   ]
  },
  {
   "cell_type": "code",
   "execution_count": 3,
   "metadata": {},
   "outputs": [
    {
     "data": {
      "text/plain": [
       "CompletedProcess(args='C:\\\\Program Files\\\\Internet Explorer\\\\iexplore.exe', returncode=1)"
      ]
     },
     "execution_count": 3,
     "metadata": {},
     "output_type": "execute_result"
    }
   ],
   "source": [
    "# リスト3.1.3： 複数のアプリを順次起動\n",
    "# サブプロセスのインポート\n",
    "import subprocess\n",
    "\n",
    "# メモ帳のパス\n",
    "notepad = r\"C:\\WINDOWS\\system32\\notepad.exe\"\n",
    "# Webブラウザのパス\n",
    "ie = r\"C:\\Program Files\\Internet Explorer\\iexplore.exe\"\n",
    "# メモ帳の起動\n",
    "subprocess.run(notepad)\n",
    "# Webブラウザの起動\n",
    "subprocess.run(ie)"
   ]
  },
  {
   "cell_type": "code",
   "execution_count": 4,
   "metadata": {},
   "outputs": [
    {
     "data": {
      "text/plain": [
       "<subprocess.Popen at 0x17a73f84bc8>"
      ]
     },
     "execution_count": 4,
     "metadata": {},
     "output_type": "execute_result"
    }
   ],
   "source": [
    "# リスト3.1.4： 複数のアプリを一度に起動\n",
    "# サブプロセスのインポート\n",
    "import subprocess\n",
    "\n",
    "# メモ帳のパス\n",
    "notepad = r\"C:\\WINDOWS\\system32\\notepad.exe\"\n",
    "# Webブラウザのパス\n",
    "ie = r\"C:\\Program Files\\Internet Explorer\\iexplore.exe\"\n",
    "# メモ帳の起動\n",
    "subprocess.Popen(notepad)\n",
    "# Webブラウザの起動\n",
    "subprocess.Popen(ie)"
   ]
  },
  {
   "cell_type": "code",
   "execution_count": 5,
   "metadata": {},
   "outputs": [],
   "source": [
    "# リスト3.1.5： for文を使ったループ処理\n",
    "# サブプロセスのインポート\n",
    "import subprocess\n",
    "\n",
    "# メモ帳のパス\n",
    "notepad = r\"C:\\WINDOWS\\system32\\notepad.exe\"\n",
    "# Webブラウザのパス\n",
    "ie = r\"C:\\Program Files\\Internet Explorer\\iexplore.exe\"\n",
    "\n",
    "# プログラムのリスト作成\n",
    "programs = [notepad, ie]\n",
    "# プログラムの起動\n",
    "for v in programs:\n",
    "    subprocess.Popen(v)"
   ]
  }
 ],
 "metadata": {
  "kernelspec": {
   "display_name": "Python 3",
   "language": "python",
   "name": "python3"
  },
  "language_info": {
   "codemirror_mode": {
    "name": "ipython",
    "version": 3
   },
   "file_extension": ".py",
   "mimetype": "text/x-python",
   "name": "python",
   "nbconvert_exporter": "python",
   "pygments_lexer": "ipython3",
   "version": "3.8.8"
  }
 },
 "nbformat": 4,
 "nbformat_minor": 4
}
