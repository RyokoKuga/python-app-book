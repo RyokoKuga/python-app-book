{
 "cells": [
  {
   "cell_type": "markdown",
   "metadata": {},
   "source": [
    "# Chapter3： Pythonの基本操作を学ぼう"
   ]
  },
  {
   "cell_type": "markdown",
   "metadata": {},
   "source": [
    "### <span style=\"color: red; \">※このノートブックはMac専用です。Windowsユーザーは「Chapter_3-1.ipynb」をご参照ください。</span>  \n",
    "本書中のコードをMacで実行できるように、一部変更していま。"
   ]
  },
  {
   "cell_type": "markdown",
   "metadata": {},
   "source": [
    "### 3.1　外部アプリケーションを操作する方法を学ぼう  "
   ]
  },
  {
   "cell_type": "markdown",
   "metadata": {},
   "source": [
    "#### リスト3.1.1  \n",
    "Macのアプリケーションを実行する場合、openコマンドを指定します。  \n",
    "◯◯.appは関連ファイルが格納されたディレクトリで、実行ファイルではありません。  \n",
    "そのため、ターミナル上から起動するためにopenコマンドを使う必要があります。  \n",
    "\n",
    "以下は、Mac標準のTextEdit.appを起動するためのコード例です。  \n",
    "\n",
    "#### 3 行目： subprocess.run([\"open\", textedit])  \n",
    "subprocess モジュールに用意されている run 関数の引数に、openコマンドとパスを指定することでアプリケーションを開くことができます。\n",
    "モジュールに用意された関数を使用する場合は、「モジュール名.関数名(引数)」と入力します。\n",
    "ここでは、あらかじめ変数texteditにTextEdit.appのパスを代入しています。\n",
    "\n",
    "ターミナル上から起動する場合は、引数で[\"open\", パス]と指定します。  "
   ]
  },
  {
   "cell_type": "code",
   "execution_count": null,
   "metadata": {},
   "outputs": [],
   "source": [
    "# リスト3.1.1： メモ帳を起動するコード \n",
    "# サブプロセスのインポート\n",
    "import subprocess\n",
    "\n",
    "# テキストエディットのパス\n",
    "textedit = \"/Applications/TextEdit.app\"\n",
    "# テキストエディットの起動\n",
    "subprocess.run([\"open\", textedit])"
   ]
  },
  {
   "cell_type": "markdown",
   "metadata": {},
   "source": [
    "### 補足：パスの取得方法  \n",
    "Macの場合は、以下の方法でクリップボードにパスをコピーできます。あとは、コードセルにペーストするだけです。  \n",
    "\n",
    "対象ファイルまたはフォルダを「option」キー押しながら右クリック、「\"ファイル名\"のパス名をコピー」をクリック  \n",
    "または、「⌘+option+C」でも可"
   ]
  },
  {
   "cell_type": "markdown",
   "metadata": {},
   "source": [
    "#### ※ リスト3.1.2「# txtファイルのパス」のコードは、自身で作成したtest.txtのパスを入力してください。  \n",
    "以下は、Safariでテキストファイルを開くためのコード例です。  \n",
    "\"-a\"は、openコマンドに用意されているオプションで、指定したアプリケーションで開く際に必要です。  \n",
    " run 関数の引数で、[\"open\", \"-a\", safari, file]と指定しているように、[ ]内には、openコマンドと-aオプション、開きたいアプリケーション、そのアプリケーションで開きたいファイルの順でパスを入力します。"
   ]
  },
  {
   "cell_type": "code",
   "execution_count": null,
   "metadata": {},
   "outputs": [],
   "source": [
    "# リスト3.1.2： 特定のファイルを指定したアプリケーションで開く \n",
    "# サブプロセスのインポート\n",
    "import subprocess\n",
    "\n",
    "# Webブラウザのパス\n",
    "safari = \"/Applications/Safari.app\"\n",
    "# txtファイルのパス\n",
    "file = \"/Users/Guest/test.txt\"\n",
    "# Webブラウザでtxtファイルを開く\n",
    "subprocess.run ([\"open\", \"-a\", safari, file])"
   ]
  },
  {
   "cell_type": "markdown",
   "metadata": {},
   "source": [
    "#### ※以下のコードは、Macに標準で搭載されているTextEdit.appとSafari.appを利用したコード例です。  \n",
    "他のアプリケーションを開きたい場合は、アプリケーションパスを変更してください。"
   ]
  },
  {
   "cell_type": "code",
   "execution_count": null,
   "metadata": {},
   "outputs": [],
   "source": [
    "# リスト3.1.3： 複数のアプリを順次起動\n",
    "# サブプロセスのインポート\n",
    "import subprocess\n",
    "\n",
    "# テキストエディットのパス\n",
    "textedit = \"/Applications/TextEdit.app\"\n",
    "# Webブラウザのパス\n",
    "safari = \"/Applications/Safari.app\"\n",
    "# テキストエディットの起動\n",
    "subprocess.run([\"open\", textedit])\n",
    "# Webブラウザの起動\n",
    "subprocess.run([\"open\", safari])"
   ]
  },
  {
   "cell_type": "code",
   "execution_count": null,
   "metadata": {},
   "outputs": [],
   "source": [
    "# リスト3.1.4： 複数のアプリを一度に起動\n",
    "# サブプロセスのインポート\n",
    "import subprocess\n",
    "\n",
    "# テキストエディットのパス\n",
    "textedit = \"/Applications/TextEdit.app\"\n",
    "# Webブラウザのパス\n",
    "safari = \"/Applications/Safari.app\"\n",
    "# テキストエディットの起動\n",
    "subprocess.Popen([\"open\", textedit])\n",
    "# Webブラウザの起動\n",
    "subprocess.Popen([\"open\", safari])"
   ]
  },
  {
   "cell_type": "code",
   "execution_count": null,
   "metadata": {},
   "outputs": [],
   "source": [
    "# リスト3.1.5： for文を使ったループ処理\n",
    "# サブプロセスのインポート\n",
    "import subprocess\n",
    "\n",
    "# テキストエディットのパス\n",
    "textedit = \"/Applications/TextEdit.app\"\n",
    "# Webブラウザのパス\n",
    "safari = \"/Applications/Safari.app\"\n",
    "\n",
    "# プログラムのリスト作成\n",
    "programs = [textedit, safari]\n",
    "# プログラムの起動\n",
    "for v in programs:\n",
    "    subprocess.Popen([\"open\", v])"
   ]
  }
 ],
 "metadata": {
  "kernelspec": {
   "display_name": "Python 3",
   "language": "python",
   "name": "python3"
  },
  "language_info": {
   "codemirror_mode": {
    "name": "ipython",
    "version": 3
   },
   "file_extension": ".py",
   "mimetype": "text/x-python",
   "name": "python",
   "nbconvert_exporter": "python",
   "pygments_lexer": "ipython3",
   "version": "3.8.8"
  }
 },
 "nbformat": 4,
 "nbformat_minor": 4
}
