{
 "cells": [
  {
   "cell_type": "markdown",
   "metadata": {},
   "source": [
    "# Chapter3： Pythonの基本操作を学ぼう"
   ]
  },
  {
   "cell_type": "markdown",
   "metadata": {},
   "source": [
    "### 3.4　条件分岐の方法を学ぼう"
   ]
  },
  {
   "cell_type": "code",
   "execution_count": 1,
   "metadata": {},
   "outputs": [
    {
     "name": "stdout",
     "output_type": "stream",
     "text": [
      "小さい\n"
     ]
    }
   ],
   "source": [
    "# リスト3.4.1： if文による条件分岐\n",
    "if 1<2:\n",
    "    print(\"小さい\")"
   ]
  },
  {
   "cell_type": "code",
   "execution_count": 2,
   "metadata": {},
   "outputs": [],
   "source": [
    "# リスト3.4.2： if文による条件分岐\n",
    "if 2<1:\n",
    "    print(\"小さい\")"
   ]
  },
  {
   "cell_type": "code",
   "execution_count": 3,
   "metadata": {},
   "outputs": [
    {
     "name": "stdout",
     "output_type": "stream",
     "text": [
      "大きい\n"
     ]
    }
   ],
   "source": [
    "# リスト3.4.3： if…else文による条件分岐\n",
    "if 2<1:\n",
    "    print(\"小さい\")\n",
    "else:\n",
    "    print(\"大きい\")"
   ]
  },
  {
   "cell_type": "code",
   "execution_count": 4,
   "metadata": {},
   "outputs": [],
   "source": [
    "# リスト3.4.4： 条件分岐によるファイル移動\n",
    "# インポート\n",
    "import shutil\n",
    "import os\n",
    "\n",
    "# ファイルの読込み\n",
    "with open(\"test.txt\", \"r\") as file:\n",
    "    v = file.read()\n",
    "    \n",
    "# 条件分岐によるファイルの移動\n",
    "if len(v) !=0 :\n",
    "    os.mkdir(\"txtFolder\")  # フォルダ作成\n",
    "    shutil.move(\"test.txt\", \"txtFolder\")  # フォルダへ移動\n",
    "else:\n",
    "    os.remove(\"test.txt\")  # ファイルの削除"
   ]
  },
  {
   "cell_type": "code",
   "execution_count": 5,
   "metadata": {},
   "outputs": [
    {
     "data": {
      "text/plain": [
       "6"
      ]
     },
     "execution_count": 5,
     "metadata": {},
     "output_type": "execute_result"
    }
   ],
   "source": [
    "# 図3-7.リスト3.4.4の実行とlen(v)の出力結果\n",
    "len(v)"
   ]
  }
 ],
 "metadata": {
  "kernelspec": {
   "display_name": "Python 3",
   "language": "python",
   "name": "python3"
  },
  "language_info": {
   "codemirror_mode": {
    "name": "ipython",
    "version": 3
   },
   "file_extension": ".py",
   "mimetype": "text/x-python",
   "name": "python",
   "nbconvert_exporter": "python",
   "pygments_lexer": "ipython3",
   "version": "3.7.6"
  }
 },
 "nbformat": 4,
 "nbformat_minor": 4
}
