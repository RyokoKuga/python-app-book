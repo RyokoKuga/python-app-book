{
 "cells": [
  {
   "cell_type": "markdown",
   "metadata": {},
   "source": [
    "# Chapter3： Pythonの基本操作を学ぼう"
   ]
  },
  {
   "cell_type": "markdown",
   "metadata": {},
   "source": [
    "### 3.2　ファイル操作の基本を学ぼう\n",
    "### 3.2.1　ファイルの作成"
   ]
  },
  {
   "cell_type": "code",
   "execution_count": 1,
   "metadata": {},
   "outputs": [],
   "source": [
    "# リスト3.2.1： フォルダの作成\n",
    "# osのインポート\n",
    "import os\n",
    "\n",
    "# フォルダの作成\n",
    "os.mkdir(\"newFolder\")"
   ]
  },
  {
   "cell_type": "code",
   "execution_count": 2,
   "metadata": {},
   "outputs": [],
   "source": [
    "# リスト3.2.2： フォルダの作成\n",
    "# osのインポート\n",
    "import os\n",
    "\n",
    "# フォルダの作成\n",
    "os.mkdir(\"newFolder/subFolder\")"
   ]
  },
  {
   "cell_type": "code",
   "execution_count": 3,
   "metadata": {},
   "outputs": [
    {
     "ename": "FileExistsError",
     "evalue": "[WinError 183] 既に存在するファイルを作成することはできません。: 'newFolder/subFolder'",
     "output_type": "error",
     "traceback": [
      "\u001b[1;31m---------------------------------------------------------------------------\u001b[0m",
      "\u001b[1;31mFileExistsError\u001b[0m                           Traceback (most recent call last)",
      "\u001b[1;32m<ipython-input-3-3a3564fac878>\u001b[0m in \u001b[0;36m<module>\u001b[1;34m\u001b[0m\n\u001b[0;32m      4\u001b[0m \u001b[1;33m\u001b[0m\u001b[0m\n\u001b[0;32m      5\u001b[0m \u001b[1;31m# フォルダの作成\u001b[0m\u001b[1;33m\u001b[0m\u001b[1;33m\u001b[0m\u001b[1;33m\u001b[0m\u001b[0m\n\u001b[1;32m----> 6\u001b[1;33m \u001b[0mos\u001b[0m\u001b[1;33m.\u001b[0m\u001b[0mmkdir\u001b[0m\u001b[1;33m(\u001b[0m\u001b[1;34m\"newFolder/subFolder\"\u001b[0m\u001b[1;33m)\u001b[0m\u001b[1;33m\u001b[0m\u001b[1;33m\u001b[0m\u001b[0m\n\u001b[0m",
      "\u001b[1;31mFileExistsError\u001b[0m: [WinError 183] 既に存在するファイルを作成することはできません。: 'newFolder/subFolder'"
     ]
    }
   ],
   "source": [
    "# 図3-3.リスト3.2.2の2度目の実行結果\n",
    "# osのインポート\n",
    "import os\n",
    "\n",
    "# フォルダの作成\n",
    "os.mkdir(\"newFolder/subFolder\")"
   ]
  },
  {
   "cell_type": "code",
   "execution_count": 4,
   "metadata": {},
   "outputs": [],
   "source": [
    "# リスト3.2.3： テキストファイルの作成\n",
    "# テキストファイルの作成\n",
    "file = open(\"test.txt\", \"w+\")\n",
    "\n",
    "# ファイルを閉じる\n",
    "file.close()"
   ]
  },
  {
   "cell_type": "markdown",
   "metadata": {},
   "source": [
    "### 3.2.2　ファイルの移動"
   ]
  },
  {
   "cell_type": "code",
   "execution_count": 5,
   "metadata": {},
   "outputs": [
    {
     "data": {
      "text/plain": [
       "'subFolder'"
      ]
     },
     "execution_count": 5,
     "metadata": {},
     "output_type": "execute_result"
    }
   ],
   "source": [
    "# リスト3.2.4： ファイルの移動\n",
    "# shutilのインポート\n",
    "import shutil\n",
    "\n",
    "# フォルダの移動\n",
    "shutil.move(\"newFolder/subFolder\", \"subFolder\")"
   ]
  },
  {
   "cell_type": "code",
   "execution_count": 6,
   "metadata": {},
   "outputs": [
    {
     "data": {
      "text/plain": [
       "'newFolder\\\\test.txt'"
      ]
     },
     "execution_count": 6,
     "metadata": {},
     "output_type": "execute_result"
    }
   ],
   "source": [
    "# リスト3.2.5： ファイルの移動\n",
    "# shutilのインポート\n",
    "import shutil\n",
    "\n",
    "# ファイルの移動\n",
    "shutil.move(\"test.txt\", \"newFolder\")"
   ]
  },
  {
   "cell_type": "code",
   "execution_count": null,
   "metadata": {},
   "outputs": [],
   "source": [
    "# リスト3.2.6： ファイルの移動 (上書きを許可する場合)\n",
    "# shutilのインポート\n",
    "import shutil\n",
    "\n",
    "# ファイルの移動\n",
    "shutil.move(\"test.txt\", \"newFolder/test.txt\")"
   ]
  },
  {
   "cell_type": "markdown",
   "metadata": {},
   "source": [
    "### 3.2.3　ファイルの削除"
   ]
  },
  {
   "cell_type": "code",
   "execution_count": 7,
   "metadata": {},
   "outputs": [],
   "source": [
    "# リスト3.2.7： ファイルの削除\n",
    "# osのインポート\n",
    "import os\n",
    "\n",
    "# テキストファイルの削除\n",
    "os.remove(\"newFolder/test.txt\")"
   ]
  },
  {
   "cell_type": "code",
   "execution_count": 8,
   "metadata": {},
   "outputs": [],
   "source": [
    "# リスト3.2.8： フォルダの削除\n",
    "# shutilのインポート\n",
    "import shutil\n",
    "\n",
    "# フォルダの削除\n",
    "shutil.rmtree(\"newFolder\")"
   ]
  }
 ],
 "metadata": {
  "kernelspec": {
   "display_name": "Python 3",
   "language": "python",
   "name": "python3"
  },
  "language_info": {
   "codemirror_mode": {
    "name": "ipython",
    "version": 3
   },
   "file_extension": ".py",
   "mimetype": "text/x-python",
   "name": "python",
   "nbconvert_exporter": "python",
   "pygments_lexer": "ipython3",
   "version": "3.7.6"
  }
 },
 "nbformat": 4,
 "nbformat_minor": 4
}
